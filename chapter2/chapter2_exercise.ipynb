{
 "cells": [
  {
   "cell_type": "markdown",
   "metadata": {},
   "source": [
    "# Chapter 2: OOP"
   ]
  },
  {
   "cell_type": "markdown",
   "metadata": {},
   "source": [
    "# Reinforcement"
   ]
  },
  {
   "cell_type": "markdown",
   "metadata": {},
   "source": [
    "## R-2.4\n",
    "Write a Python class, Flower, that has three instance variables of type str,\n",
    "int, and float, that respectively represent the name of the flower, its number of petals, and its price. Your class must include a constructor method\n",
    "that initializes each variable to an appropriate value, and your class should\n",
    "include methods for setting the value of each type, and retrieving the value\n",
    "of each type."
   ]
  },
  {
   "cell_type": "code",
   "execution_count": 29,
   "metadata": {},
   "outputs": [
    {
     "data": {
      "text/plain": [
       "'rose'"
      ]
     },
     "execution_count": 29,
     "metadata": {},
     "output_type": "execute_result"
    }
   ],
   "source": [
    "class Flower:\n",
    "    def __init__(self, name: str, petals: int, price: float):\n",
    "        self._name = name\n",
    "        self._petals = petals\n",
    "        self._price = price\n",
    "    \n",
    "    def getName(self):\n",
    "        return self._name\n",
    "    \n",
    "    def getPetals(self):\n",
    "        return self._petals\n",
    "    \n",
    "    def getPrice(self):\n",
    "        return self._price\n",
    "\n",
    "a = Flower(\"rose\", 2, 3)\n",
    "a.getName()\n"
   ]
  },
  {
   "cell_type": "markdown",
   "metadata": {},
   "source": [
    "## R-2.5 \n",
    "Use the techniques of Section 1.7 to revise the charge and make payment\n",
    "methods of the CreditCard class to ensure that the caller sends a number\n",
    "as a parameter."
   ]
  },
  {
   "cell_type": "code",
   "execution_count": 30,
   "metadata": {},
   "outputs": [
    {
     "name": "stdout",
     "output_type": "stream",
     "text": [
      "None\n",
      "-400\n"
     ]
    }
   ],
   "source": [
    "class CreditCard:\n",
    "    def __init__ (self, customer, bank, acnt, limit):\n",
    "        self._customer = customer\n",
    "        self._bank = bank\n",
    "        self._acnt = acnt\n",
    "        self._limit = limit\n",
    "        self._balance = 0\n",
    "    \n",
    "    def get_customer(self):\n",
    "        return self._customer\n",
    "\n",
    "    def get_bank(self):\n",
    "        return self._bank\n",
    "    \n",
    "    def get_acnt(self):\n",
    "        return self._acnt\n",
    "    \n",
    "    def get_limit(self):\n",
    "        return self._limit\n",
    "    \n",
    "    def get_balance(self):\n",
    "        return self._balance\n",
    "    \n",
    "    def charge(self, price):\n",
    "        if type(price) != int:\n",
    "            raise TypeError(\"ngu1\")\n",
    "        \n",
    "        if price + self._balance > self._limit:\n",
    "            return False\n",
    "        else:\n",
    "            self._balance += price\n",
    "            return True\n",
    "        \n",
    "    def make_payment(self, amount):\n",
    "        if type(amount) != int:\n",
    "            raise TypeError(\"ngu2\")\n",
    "        self._balance -= amount\n",
    "\n",
    "a = CreditCard(\"John Bowman\" , \"California Savings\" , \"56 5391 0375 9387 5309\" , 2000)\n",
    "print(a.make_payment(400))\n",
    "print(a.get_balance())"
   ]
  },
  {
   "cell_type": "markdown",
   "metadata": {},
   "source": [
    "## R-2.6 \n",
    "If the parameter to the make payment method of the CreditCard class\n",
    "were a negative number, that would have the effect of raising the balance\n",
    "on the account. Revise the implementation so that it raises a ValueError if\n",
    "a negative value is sent."
   ]
  },
  {
   "cell_type": "code",
   "execution_count": 31,
   "metadata": {},
   "outputs": [
    {
     "name": "stdout",
     "output_type": "stream",
     "text": [
      "hong co am\n"
     ]
    }
   ],
   "source": [
    "class R26(CreditCard):\n",
    "    def make_payment(self, price):\n",
    "        super().make_payment(price)\n",
    "        if price < 0:\n",
    "            return ValueError(\"hong co am\")\n",
    "\n",
    "b = R26(\"John Bowman\" , \"California Savings\" , \"56 5391 0375 9387 5309\" , 2000)\n",
    "print(b.make_payment(-1))\n"
   ]
  },
  {
   "cell_type": "markdown",
   "metadata": {},
   "source": [
    "## R-2.7 \n",
    "The CreditCard class of Section 2.3 initializes the balance of a new account to zero. Modify that class so that a new account can be given a\n",
    "nonzero balance using an optional fifth parameter to the constructor. The\n",
    "four-parameter constructor syntax should continue to produce an account\n",
    "with zero balance."
   ]
  },
  {
   "cell_type": "code",
   "execution_count": 32,
   "metadata": {},
   "outputs": [
    {
     "data": {
      "text/plain": [
       "5"
      ]
     },
     "execution_count": 32,
     "metadata": {},
     "output_type": "execute_result"
    }
   ],
   "source": [
    "class R27(CreditCard):\n",
    "    def __init__(self, customer, bank, acnt, limit, balance):\n",
    "        super().__init__(customer, bank, acnt, limit)\n",
    "        self._balance = balance\n",
    "\n",
    "b = R27(\"John Bowman\" , \"California Savings\" , \"56 5391 0375 9387 5309\" , 2000, 5)\n",
    "b.get_balance()"
   ]
  },
  {
   "cell_type": "markdown",
   "metadata": {},
   "source": [
    "## R-2.8 \n",
    "Modify the declaration of the first for loop in the CreditCard tests, from\n",
    "Code Fragment 2.3, so that it will eventually cause exactly one of the three\n",
    "credit cards to go over its credit limit. Which credit card is it?"
   ]
  },
  {
   "cell_type": "code",
   "execution_count": 33,
   "metadata": {},
   "outputs": [
    {
     "name": "stdout",
     "output_type": "stream",
     "text": [
      "Customer = John Bowman\n",
      "Bank = California Savings\n",
      "Account = 5391 0375 9387 5309\n",
      "Limit = 2500\n",
      "Balance = 1722\n",
      "New balance = 22 \n",
      "\n",
      "Customer = John Bowman\n",
      "Bank = California Federal\n",
      "Account = 3485 0399 3395 1954\n",
      "Limit = 3500\n",
      "Balance = 3444\n",
      "New balance = 44 \n",
      "\n",
      "Customer = John Bowman\n",
      "Bank = California Finance\n",
      "Account = 5391 0375 9387 5309\n",
      "Limit = 0\n",
      "Balance = 4920\n",
      "New balance = 20 \n",
      "\n"
     ]
    }
   ],
   "source": [
    "class R28(CreditCard):\n",
    "    def charge(self, price):\n",
    "        super().charge(price)\n",
    "        if price + self._balance > self._limit:\n",
    "            self._limit = 0\n",
    "            return False\n",
    "        else:\n",
    "            self._balance += price\n",
    "            return True\n",
    "        \n",
    "\n",
    "wallet = [ ]\n",
    "wallet.append(R28( \"John Bowman\" , \"California Savings\" , \"5391 0375 9387 5309\" , 2500) )\n",
    "wallet.append(R28( \"John Bowman\" , \"California Federal\" , \"3485 0399 3395 1954\" , 3500) )\n",
    "wallet.append(R28( \"John Bowman\" , \"California Finance\" , \"5391 0375 9387 5309\" , 5000) )\n",
    "\n",
    "for val in range(1, 42):\n",
    "    wallet[0].charge(val)\n",
    "    wallet[1].charge(2*val)\n",
    "    wallet[2].charge(3*val)\n",
    "\n",
    "for c in range(3):\n",
    "    print(\"Customer =\", wallet[c].get_customer())\n",
    "    print(\"Bank =\", wallet[c].get_bank())\n",
    "    print(\"Account =\", wallet[c].get_acnt())\n",
    "    print(\"Limit =\", wallet[c].get_limit())\n",
    "    print(\"Balance =\", wallet[c].get_balance())\n",
    "    while wallet[c].get_balance() > 100:\n",
    "        wallet[c].make_payment(100)\n",
    "    print(\"New balance =\", wallet[c].get_balance(), \"\\n\")\n",
    "    "
   ]
  },
  {
   "cell_type": "markdown",
   "metadata": {},
   "source": [
    "## R-2.9 \n",
    "Implement the sub method for the Vector class of Section 2.3.3, so\n",
    "that the expression u−v returns a new vector instance representing the\n",
    "difference between two vectors."
   ]
  },
  {
   "cell_type": "code",
   "execution_count": 34,
   "metadata": {},
   "outputs": [
    {
     "name": "stdout",
     "output_type": "stream",
     "text": [
      "0\n",
      "<0, 46, 0, 0, 0>\n",
      "<0, -17, 0, 0, 0>\n"
     ]
    }
   ],
   "source": [
    "class Vector:\n",
    "    \"\"\"Represent a vector in a multidimensional space.\"\"\"\n",
    "    \n",
    "    def __init__(self, dimension):\n",
    "        \"\"\"Initialize a vector with zeros in all dimensions.\"\"\"\n",
    "        self._coords = [0] * dimension\n",
    "    \n",
    "    # def getHuh(self):\n",
    "    #     return self._coords\n",
    "\n",
    "    def __len__(self):\n",
    "        \"\"\"Return the number of dimensions in the vector.\"\"\"\n",
    "        return len(self._coords)\n",
    "    \n",
    "    def __getitem__(self, index):\n",
    "        \"\"\"Access the element at the specified index.\"\"\"\n",
    "        return self._coords[index]\n",
    "    \n",
    "    def __setitem__(self, index, value):\n",
    "        \"\"\"Set the element at the specified index.\"\"\"\n",
    "        self._coords[index] = value\n",
    "    \n",
    "    def __str__(self):\n",
    "        return  '<' + str(self._coords)[1:-1] + '>'\n",
    "\n",
    "    def __add__(self, other):\n",
    "        \"\"\"Add two vectors element-wise.\"\"\"\n",
    "        if len(self) != len(other):\n",
    "            raise ValueError(\"Vectors must have the same dimensions\")\n",
    "        result = Vector(len(self))\n",
    "        for i in range(len(self)):\n",
    "            result[i] = self[i] + other[i]\n",
    "        return result\n",
    "\n",
    "    def __sub__(self, other):\n",
    "        if len(self) != len(other):\n",
    "            raise ValueError(\"Vectors must have the same dimensions\")\n",
    "        result = Vector(len(self))\n",
    "        for i in range(len(self)):\n",
    "            result[i] = self[i] - other[i]\n",
    "        return result\n",
    "\n",
    "# Example usage:\n",
    "v = Vector(5)  # Create a 5-dimensional vector\n",
    "i = Vector(5)  # Create a 5-dimensional vector\n",
    "v[1] = 23      # Set an element\n",
    "i[1] = 40 \n",
    "print(v[4])    # Access an element\n",
    "u = v + v      # Vector addition\n",
    "print(u)       # Prints <0, 46, 0, 0, 90>\n",
    "u = v - i\n",
    "print(u)\n"
   ]
  },
  {
   "cell_type": "markdown",
   "metadata": {},
   "source": [
    "## R-2.10 \n",
    "Implement the __ neg__ method for the Vector class of Section 2.3.3, so\n",
    "that the expression −v returns a new vector instance whose coordinates\n",
    "are all the negated values of the respective coordinates of v."
   ]
  },
  {
   "cell_type": "code",
   "execution_count": 35,
   "metadata": {},
   "outputs": [
    {
     "name": "stdout",
     "output_type": "stream",
     "text": [
      "<0, 0, 0, -4, 3>\n"
     ]
    }
   ],
   "source": [
    "class Vector(Vector):\n",
    "    def __neg__(self):\n",
    "        result = Vector(len(self))\n",
    "        for i in range(len(self)):\n",
    "            result[i] = -self[i]\n",
    "        return result \n",
    "    \n",
    "v = Vector(5)\n",
    "v[3]=4\n",
    "v[4]=-3\n",
    "print(-v)"
   ]
  },
  {
   "cell_type": "markdown",
   "metadata": {},
   "source": [
    "## R-2.11 \n",
    "In Section 2.3.3, we note that our Vector class supports a syntax such as\n",
    "v = u + [5, 3, 10, −2, 1], in which the sum of a vector and list returns\n",
    "a new vector. However, the syntax v = [5, 3, 10, −2, 1] + u is illegal.\n",
    "Explain how the Vector class definition can be revised so that this syntax\n",
    "generates a new vector."
   ]
  },
  {
   "cell_type": "code",
   "execution_count": 36,
   "metadata": {},
   "outputs": [
    {
     "name": "stdout",
     "output_type": "stream",
     "text": [
      "<5, 49, 10, -2, 1>\n"
     ]
    }
   ],
   "source": [
    "class Vector(Vector):\n",
    "    def __radd__(self, other):\n",
    "        return self.__add__(other)\n",
    "\n",
    "u = Vector(5)\n",
    "u[1] = 46\n",
    "v = [5, 3, 10, -2, 1] + u\n",
    "print(v)  # Output should be [5, 49, 10, -2, 1]"
   ]
  },
  {
   "cell_type": "markdown",
   "metadata": {},
   "source": [
    "## R-2.12 & R-2.13\n",
    "Implement the mul method for the Vector class of Section 2.3.3, so\n",
    "that the expression v*3 returns a new vector with coordinates that are 3\n",
    "times the respective coordinates of v."
   ]
  },
  {
   "cell_type": "code",
   "execution_count": 37,
   "metadata": {},
   "outputs": [
    {
     "name": "stdout",
     "output_type": "stream",
     "text": [
      "<0, -27, 36, 0, 0>\n",
      "<0, 46, 0, 0, 0>\n"
     ]
    }
   ],
   "source": [
    "class Vector(Vector):\n",
    "    def __mul__(self, num):\n",
    "        result = Vector(len(self))\n",
    "        for i in range(len(self)):\n",
    "            result[i] = num * self[i]\n",
    "        return result\n",
    "    \n",
    "    def __rmul__(self, other):\n",
    "        return self.__mul__(other)\n",
    "\n",
    "v = Vector(5)\n",
    "v[2]=12\n",
    "v[1]=-9\n",
    "print(v*3)\n",
    "print(u)"
   ]
  },
  {
   "cell_type": "markdown",
   "metadata": {},
   "source": [
    "## R-2.14  \n",
    "Implement the mul method for the Vector class of Section 2.3.3, so\n",
    "that the expression u*v returns a scalar that represents the dot product of\n",
    "the vectors, that is, $\\sum_{i=1}^{n} u_i \\cdot v_i $\n",
    "\n",
    "\n"
   ]
  },
  {
   "cell_type": "code",
   "execution_count": 38,
   "metadata": {},
   "outputs": [],
   "source": [
    "class Vector(Vector):\n",
    "    def append(self, other: list):\n",
    "        self._coords += other\n",
    "        \n",
    "    def __mul__(self, other):\n",
    "        if type(other) == int:\n",
    "            return super().__mul__(other)\n",
    "        else:\n",
    "            result = 0\n",
    "            if len(self) != len(other):\n",
    "                gap = abs(len(self) - len(other))\n",
    "                if len(self) < len(other):\n",
    "                    while gap != 0:\n",
    "                        self.append([0])\n",
    "                        gap -= 1\n",
    "                else:\n",
    "                    while gap != 0:\n",
    "                        other.append([0])\n",
    "                        gap -= 1\n",
    "            for i in range(len(self)):\n",
    "                result += (self[i] * other[i])\n",
    "            return result"
   ]
  },
  {
   "cell_type": "code",
   "execution_count": 39,
   "metadata": {},
   "outputs": [
    {
     "name": "stdout",
     "output_type": "stream",
     "text": [
      "<3, -9, 12, 0, 0>\n",
      "<0, -7, 2>\n"
     ]
    }
   ],
   "source": [
    "v = Vector(5)\n",
    "u = Vector(3)\n",
    "v[2]=12\n",
    "v[1]=-9\n",
    "v[0]=3\n",
    "\n",
    "u[2]=2\n",
    "u[1]=-7\n",
    "v[4]=0\n",
    "print(v)\n",
    "print(u)"
   ]
  },
  {
   "cell_type": "code",
   "execution_count": 40,
   "metadata": {},
   "outputs": [
    {
     "name": "stdout",
     "output_type": "stream",
     "text": [
      "<9, -27, 36, 0, 0>\n"
     ]
    }
   ],
   "source": [
    "ef = v*3\n",
    "print(ef)"
   ]
  },
  {
   "cell_type": "markdown",
   "metadata": {},
   "source": [
    "## R-2.15 \n",
    "Modify the constructor so that either of these forms is\n",
    "acceptable; that is, if a single integer is sent, it produces a vector of that\n",
    "dimension with all zeros, but if a sequence of numbers is provided, it pro\u0002duces a vector with coordinates based on that sequence."
   ]
  },
  {
   "cell_type": "code",
   "execution_count": 41,
   "metadata": {},
   "outputs": [
    {
     "name": "stdout",
     "output_type": "stream",
     "text": [
      "<0, 0, 0, 0, 0> <2, 3, 4>\n"
     ]
    }
   ],
   "source": [
    "class Vector(Vector):\n",
    "    def __init__(self, dimension):\n",
    "        if type(dimension) == int:\n",
    "            super().__init__(dimension)\n",
    "        elif type(dimension) == list or dict or set:\n",
    "            self._coords = dimension\n",
    "        else:\n",
    "            raise ValueError(\"Invalid dimension type\")\n",
    "\n",
    "v = Vector(5)\n",
    "u = Vector([2,3,4])\n",
    "print(v, u)\n"
   ]
  },
  {
   "cell_type": "markdown",
   "metadata": {},
   "source": [
    "## R-2.16\n",
    "Our Range class, from Section 2.3.5, relies on the formula __max(0, (stop − start + step − 1) // step)__\n",
    "to compute the number of elements in the range. It is not immediately evident why this formula provides the correct calculation, even if assuming\n",
    "a positive step size. Justify this formula, in your own words."
   ]
  },
  {
   "cell_type": "code",
   "execution_count": 42,
   "metadata": {},
   "outputs": [],
   "source": [
    "class Range:\n",
    "    def __init__(self, start, stop=None, step=1):\n",
    "        \"\"\"Initialize a Range instance.\n",
    "        \n",
    "        Semantics is similar to the built-in range class.\n",
    "        \"\"\"\n",
    "        if step == 0:\n",
    "            raise ValueError(\"step cannot be 0\")\n",
    "        \n",
    "        if stop is None:  # special case of range(n)\n",
    "            start, stop = 0, start  # should be treated as if range(0, n)\n",
    "        \n",
    "        # calculate the effective length once\n",
    "        self.length = max(0, (stop - start + step - 1) // step)\n",
    "        \n",
    "        # need knowledge of start and step (but not stop) to support getitem\n",
    "        self.start = start\n",
    "        self.step = step\n",
    "        \n",
    "    def __len__(self):\n",
    "        \"\"\"Return number of entries in the range.\"\"\"\n",
    "        return self.length\n",
    "    \n",
    "    def __getitem__(self, k):\n",
    "        \"\"\"Return entry at index k (using standard interpretation if negative).\"\"\"\n",
    "        if k < 0:\n",
    "            k += len(self)  # attempt to convert negative index\n",
    "        \n",
    "        if not 0 <= k < self.length:\n",
    "            raise IndexError(\"index out of range\")\n",
    "        \n",
    "        return self.start + k * self.step\n",
    "\n"
   ]
  },
  {
   "cell_type": "markdown",
   "metadata": {},
   "source": [
    "## R-2.17 \n",
    "Draw a class inheritance diagram for the following set of classes:\n",
    "- Class Goat extends 'object' and adds an instance variable _tail and\n",
    "methods milk( ) and jump( ).\n",
    "- Class Pig extends 'object' and adds an instance variable _nose and\n",
    "methods eat(food) and wallow( ).\n",
    "- Class Horse extends 'object' and adds instance variables _height and\n",
    "_color, and methods run( ) and jump( ).\n",
    "- Class Racer extends Horse and adds a method race( ).\n",
    "- Class Equestrian extends Horse, adding an instance variable _weight\n",
    "and methods trot( ) and is_trained( )."
   ]
  },
  {
   "cell_type": "code",
   "execution_count": 43,
   "metadata": {},
   "outputs": [],
   "source": [
    "class Goat(object):\n",
    "    def __init__(self, tail):\n",
    "        self._tail = tail\n",
    "    \n",
    "    def milk():\n",
    "        pass\n",
    "    \n",
    "    def jump():\n",
    "        pass\n",
    "\n",
    "class Pig(object):\n",
    "    def __init__(self, nose):\n",
    "        self._nose = nose\n",
    "\n",
    "    def eat(food: str):\n",
    "        return food\n",
    "    \n",
    "    def wallow():\n",
    "        pass\n",
    "\n",
    "class Horse(object):\n",
    "    def __init__(self, height, color):\n",
    "        self._height = height\n",
    "        self._color = color\n",
    "    \n",
    "    def run():\n",
    "        pass\n",
    "    \n",
    "    def jump():\n",
    "        pass\n",
    "\n",
    "class Racer(Horse):\n",
    "    def race():\n",
    "        pass\n",
    "\n",
    "class Equestrian(Horse):\n",
    "    def __init__(self, height, color, weight):\n",
    "        super().__init__(height, color)\n",
    "        self._weight = weight"
   ]
  },
  {
   "cell_type": "markdown",
   "metadata": {},
   "source": [
    "## R-2.18\n",
    "Give a short fragment of Python code that uses the progression classes\n",
    "from Section 2.4.2 to find the 8th value of a Fibonacci progression that\n",
    "starts with 2 and 2 as its first two values."
   ]
  },
  {
   "cell_type": "code",
   "execution_count": 44,
   "metadata": {},
   "outputs": [],
   "source": [
    "class Progression:\n",
    "    def __init__(self, start=0):\n",
    "        self._current = start\n",
    "\n",
    "    def _advance(self):\n",
    "        self._current +=1\n",
    "    \n",
    "    def __next__(self):\n",
    "        if self._current is None:\n",
    "            raise StopIteration()\n",
    "        else:\n",
    "            answer = self._current\n",
    "            self._advance()\n",
    "            return answer\n",
    "        \n",
    "    def __iter__(self):\n",
    "        return self\n",
    "    \n",
    "    def print_progression(self, n):\n",
    "        print(' '.join(str(next(self)) for j in range(n))) \n",
    "\n",
    "class Fibonacci(Progression):\n",
    "    def __init__(self, start=0, follow=1):\n",
    "        super().__init__(start)\n",
    "        self._previous = follow - start\n",
    "    \n",
    "    def _advance(self):\n",
    "        self._previous, self._current = self._current, self._previous + self._current\n"
   ]
  },
  {
   "cell_type": "code",
   "execution_count": 45,
   "metadata": {},
   "outputs": [
    {
     "name": "stdout",
     "output_type": "stream",
     "text": [
      "Fibonacci progression with default start values:\n",
      "2 2 4 6 10 16 26 42\n"
     ]
    }
   ],
   "source": [
    "print( 'Fibonacci progression with default start values:' )\n",
    "Fibonacci(2,2).print_progression(8)"
   ]
  },
  {
   "cell_type": "markdown",
   "metadata": {},
   "source": [
    "## R-2.19 \n",
    "When using the ArithmeticProgression class of Section 2.4.2 with an increment of 128 and a start of 0, how many calls to next can we make\n",
    "before we reach an integer of $2^{63}$ or larger?\n",
    "\n",
    "> ___Answer:___ To find the number of calls needed, we solve the following inequality:\n",
    "\n",
    "$ \\text{current value} + n \\times \\text{increment} \\geq 2^{63} $\n",
    "\n",
    "Substituting the given values:\n",
    "\n",
    "$ 256 + 128n \\geq 2^{63} $\n",
    "\n",
    "Solving for (n):\n",
    "\n",
    "$ n \\geq \\frac{2^{63} - 256}{128} $\n",
    "\n",
    "Calculating this expression:\n",
    "\n",
    "$ n \\geq 2^{55} - 2 $"
   ]
  },
  {
   "cell_type": "markdown",
   "metadata": {},
   "source": [
    "\n",
    "## R-2.20 \n",
    "What are some potential efficiency disadvantages of having very deep inheritance trees, that is, a large set of classes, A, B, C, and so on, such that\n",
    "B extends A, C extends B, D extends C, etc.?\n",
    "\n",
    "> ___Answer:___\n",
    "\n",
    "__1.__ _Method Dispatch Overhead:_\n",
    "\n",
    "In deep inheritance hierarchies, method calls can become less efficient due to the need for runtime method dispatch. When a method is invoked on an object, the runtime must traverse the entire inheritance chain to find the appropriate implementation.\n",
    "\n",
    "__2.__ _Constructor Chain and Super Calls:_\n",
    "\n",
    "Constructors in derived classes often invoke the constructor of their parent class using supe().\n",
    "In deep inheritance trees, this chain of constructor calls can become lengthy, leading to potential performance overhead.\n",
    "\n",
    "__3.__ _Increased Memory Usage:_\n",
    "\n",
    "Each level of inheritance introduces additional memory overhead.\n",
    "Objects of derived classes carry the data members of their parent classes as well.\n",
    "In deep hierarchies, memory usage can accumulate significantly."
   ]
  },
  {
   "cell_type": "markdown",
   "metadata": {},
   "source": [
    "\n",
    "## R-2.21 \n",
    "What are some potential efficiency disadvantages of having very shallow\n",
    "inheritance trees, that is, a large set of classes, A, B, C, and so on, such\n",
    "that all of these classes extend a single class, Z?\n",
    "\n",
    "> ___Answer:___\n",
    "\n",
    "__1.__ _Code Duplication:_\n",
    "\n",
    "Shallow inheritance trees can lead to code duplication.\n",
    "If multiple classes share common functionality, they may reimplement the same methods or attributes inherited from class Z.\n",
    "This redundancy increases maintenance effort and can introduce inconsistencies.\n",
    "\n",
    "__2.__ _Difficulty in Code Maintenance:_\n",
    "\n",
    "With many classes extending a single base class, changes to the base class can impact all derived classes.\n",
    "Ensuring consistent behavior across all subclasses becomes challenging.\n",
    "Debugging and maintaining such code can be cumbersome.\n",
    "\n",
    "__3.__ _Reduced Flexibility and Abstraction:_\n",
    "\n",
    "Shallow inheritance limits the flexibility to create specialized subclasses.\n",
    "It may be harder to model specific behaviors or variations.\n",
    "Hierarchies with deeper inheritance allow for more fine-grained specialization.\n",
    "\n",
    "__4.__ _Inefficient Use of Memory:_\n",
    "\n",
    "Each instance of a derived class carries the data members inherited from class Z.\n",
    "If these members are not relevant to all subclasses, memory usage becomes inefficient.\n",
    "In contrast, deeper hierarchies allow more targeted data sharing."
   ]
  },
  {
   "cell_type": "markdown",
   "metadata": {},
   "source": [
    "\n",
    "## R-2.22 & R-2.23 \n",
    "The collections.Sequence abstract base class does not provide support for\n",
    "comparing two sequences to each other. Modify our Sequence class from\n",
    "Code Fragment 2.14 to include a definition for the __eq __ method, so\n",
    "that expression seq1 == seq2 will return True precisely when the two\n",
    "sequences are element by element equivalent.\n",
    "\n",
    "In similar spirit to the previous problem, augment the Sequence class with\n",
    "method __\n",
    "lt__ , to support lexicographic comparison seq1 < seq2."
   ]
  },
  {
   "cell_type": "code",
   "execution_count": 46,
   "metadata": {},
   "outputs": [],
   "source": [
    "from abc import ABCMeta, abstractmethod\n",
    "\n",
    "class Sequence(metaclass=ABCMeta):\n",
    "    def __init__(self, seq):\n",
    "        self._seq = seq\n",
    "    \n",
    "    def __len__(self):\n",
    "        \"\"\"Return the number of dimensions in the vector.\"\"\"\n",
    "        return len(self._seq)\n",
    "    \n",
    "    def __getitem__(self, index):\n",
    "        \"\"\"Access the element at the specified index.\"\"\"\n",
    "        return self._seq[index]\n",
    "\n",
    "    def __contains__(self, val):\n",
    "        for j in range(len(self)):\n",
    "            if self[j] == val:\n",
    "                return True\n",
    "        return False\n",
    "    \n",
    "    def __eq__(self, val) -> bool:\n",
    "        if len(self) != len(val):\n",
    "            raise ValueError('Two objects must have equal lenght')\n",
    "        for i in range(len(self)):\n",
    "            if self[i] != val[i]:\n",
    "                return False\n",
    "        return True\n",
    "    \n",
    "    def __lt__(self, val):\n",
    "        if len(self) != len(val):\n",
    "            return True if len(self) < len(val) else False\n",
    "        else:\n",
    "            for i in range(len(self)):\n",
    "                if self[i] > val[i]:\n",
    "                    return False\n",
    "            return True\n",
    "\n",
    "    def index(self, val):\n",
    "        for j in range(len(self)):\n",
    "            if self[j] == val:\n",
    "                return j\n",
    "        raise ValueError('value not in sequence')\n",
    "    \n",
    "    def count(self, val):\n",
    "        k = 0\n",
    "        for j in range(len(self)):\n",
    "            if self[j] == val:\n",
    "                k += 1\n",
    "        return k"
   ]
  },
  {
   "cell_type": "code",
   "execution_count": 47,
   "metadata": {},
   "outputs": [
    {
     "name": "stdout",
     "output_type": "stream",
     "text": [
      "Are seq1 less than seq2 equal? False\n"
     ]
    }
   ],
   "source": [
    "# Create two sequences\n",
    "seq1 = Sequence(['b','gewrwerew','x'])\n",
    "seq2 = Sequence(['b','g','x'])\n",
    "\n",
    "# Check if they are equal\n",
    "result = seq1 < seq2\n",
    "\n",
    "print(f\"Are seq1 less than seq2 equal? {result}\")\n"
   ]
  },
  {
   "cell_type": "markdown",
   "metadata": {},
   "source": [
    "# Creativity"
   ]
  },
  {
   "cell_type": "markdown",
   "metadata": {},
   "source": [
    "## C-2.24 \n",
    "Suppose you are on the design team for a new e-book reader. What are the\n",
    "primary classes and methods that the Python software for your reader will\n",
    "need? You should include an inheritance diagram for this code, but you\n",
    "do not need to write any actual code. Your software architecture should\n",
    "at least include ways for customers to buy new books, view their list of\n",
    "purchased books, and read their purchased books."
   ]
  },
  {
   "cell_type": "markdown",
   "metadata": {},
   "source": [
    "class Books: \n",
    "- id, name, author, price, content\n",
    "- getname, getauthor, getprice, getcontent\n",
    "\n",
    "class Customer:\n",
    "- id, name, purchased\n",
    "- buybook(book), viewbooks, readbook(book)\n",
    "\n",
    "class EBookReader (inherits from Customer):\n",
    "- available_books\n",
    "- add_book(book), display_available_books(), read_purchased_book(book)"
   ]
  },
  {
   "cell_type": "markdown",
   "metadata": {},
   "source": [
    "## C-2.25 \n",
    "Exercise R-2.12 uses the mul method to support multiplying a Vector\n",
    "by a number, while Exercise R-2.14 uses the mul method to support\n",
    "computing a dot product of two vectors. Give a single implementation of\n",
    "Vector. mul that uses run-time type checking to support both syntaxes\n",
    "u v and u k, where u and v designate vector instances and k represents\n",
    "a number. [R-2.14](#r-214)"
   ]
  },
  {
   "cell_type": "markdown",
   "metadata": {},
   "source": [
    "## C-2.26 \n",
    "The SequenceIterator class of Section 2.3.4 provides what is known as a\n",
    "forward iterator. Implement a class named ReversedSequenceIterator that\n",
    "serves as a reverse iterator for any Python sequence type. The first call to\n",
    "next should return the last element of the sequence, the second call to next\n",
    "should return the second-to-last element, and so forth.\n",
    "[R-2.22 & R-2.23](#r-212--r-213)"
   ]
  },
  {
   "cell_type": "code",
   "execution_count": 48,
   "metadata": {},
   "outputs": [],
   "source": [
    "\n",
    "class ReversedSequenceIterator:\n",
    "    def __init__(self, seq):\n",
    "        self._seq = seq\n",
    "        self._k = len(self._seq)\n",
    "    \n",
    "    def __next__(self):\n",
    "        self._k -= 1\n",
    "        if self._k > -1:\n",
    "            return(self._seq[self._k])\n",
    "        else:\n",
    "            raise StopIteration(\"bruh out of index hehe\")\n",
    "    \n",
    "    def __iter__(self):\n",
    "        return self"
   ]
  },
  {
   "cell_type": "code",
   "execution_count": 49,
   "metadata": {},
   "outputs": [
    {
     "name": "stdout",
     "output_type": "stream",
     "text": [
      "oew\n",
      "e\n",
      "c\n",
      "b\n",
      "a\n"
     ]
    }
   ],
   "source": [
    "a =ReversedSequenceIterator(['a','b','c','e','oew'])\n",
    "for i in range(5):\n",
    "    print(next(a))\n"
   ]
  },
  {
   "cell_type": "markdown",
   "metadata": {},
   "source": [
    "## C-2.27 \n",
    "In Section 2.3.5, we note that our version of the Range class has implicit support for iteration, due to its explicit support of both len\n",
    "and getitem . The class also receives implicit support of the Boolean\n",
    "test, “k in r” for Range r. This test is evaluated based on a forward iteration through the range, as evidenced by the relative quickness of the test\n",
    "2 in Range(10000000) versus 9999999 in Range(10000000). Provide a\n",
    "more efficient implementation of the contains method to determine\n",
    "whether a particular value lies within a given range. The running time of\n",
    "your method should be independent of the length of the range."
   ]
  },
  {
   "cell_type": "markdown",
   "metadata": {},
   "source": [
    "## C-2.28 \n",
    "The PredatoryCreditCard class of Section 2.4.1 provides a process_month\n",
    "method that models the completion of a monthly cycle. Modify the class\n",
    "so that once a customer has made ten calls to charge in the current month,\n",
    "each additional call to that function results in an additional $1 surcharge."
   ]
  },
  {
   "cell_type": "code",
   "execution_count": 50,
   "metadata": {},
   "outputs": [],
   "source": [
    "class PredatoryCreditCard(CreditCard):\n",
    "    SURCHARGE = 1\n",
    "    def __init__(self, customer, bank, acnt, limit):\n",
    "        super().__init__(customer, bank, acnt, limit)\n",
    "        self._month = 0 \n",
    "        self._count = 0\n",
    "    \n",
    "    def get_month(self):\n",
    "        return self._month\n",
    "    \n",
    "    def get_count(self):\n",
    "        return self._count\n",
    "        \n",
    "    def process_month(self):\n",
    "        charged_fee = 0\n",
    "        if self._count > 10:\n",
    "            charged_fee = PredatoryCreditCard.SURCHARGE * (self._count - 10)\n",
    "        return charged_fee\n",
    "    \n",
    "    def charge(self, price, month):\n",
    "        if month < 1 or month > 12:\n",
    "            raise ValueError(\"bruhhhh how tf can u make a payment in a nonexisted month?????!!!!!!!!\")\n",
    "        if self._month == 0:\n",
    "            self._month = month\n",
    "            self._count = 1\n",
    "        else:\n",
    "            if self._month == month:\n",
    "                self._count += 1\n",
    "            else:\n",
    "                self._month = month\n",
    "                self._count = 1\n",
    "        success = super().charge(price)\n",
    "        if success:\n",
    "            if self._count > 10:\n",
    "                self._balance += PredatoryCreditCard.SURCHARGE\n",
    "            return True\n"
   ]
  },
  {
   "cell_type": "code",
   "execution_count": 51,
   "metadata": {},
   "outputs": [
    {
     "name": "stdout",
     "output_type": "stream",
     "text": [
      "610\n",
      "10\n",
      "20\n",
      "1189\n",
      "9\n",
      "19\n"
     ]
    }
   ],
   "source": [
    "a = PredatoryCreditCard(\"John Bowman\" , \"California Savings\" , \"56 5391 0375 9387 5309\" , 2000)\n",
    "for i in range(20):\n",
    "    a.charge(30, 12)\n",
    "\n",
    "print(a.get_balance())\n",
    "print(a.process_month())\n",
    "print(a.get_count())\n",
    "\n",
    "for i in range(19):\n",
    "    a.charge(30, 1)\n",
    "\n",
    "print(a.get_balance())\n",
    "print(a.process_month())\n",
    "print(a.get_count()) #???????????????????????????????????????/"
   ]
  },
  {
   "cell_type": "markdown",
   "metadata": {},
   "source": [
    "# Projects"
   ]
  },
  {
   "cell_type": "markdown",
   "metadata": {},
   "source": [
    "## P-2.33\n",
    "Write a Python program that inputs a polynomial in standard algebraic notation and outputs the first derivative of that polynomial.\n",
    "if i could finish this problem, imma go cramming writing :()"
   ]
  },
  {
   "cell_type": "code",
   "execution_count": 52,
   "metadata": {},
   "outputs": [],
   "source": [
    "class Polynomial:\n",
    "    def __init__(self, deg):\n",
    "        self._deg = deg\n",
    "        self._com = [1] * (deg + 1)\n",
    "    \n",
    "    def __getitem__(self, index):\n",
    "        return self._com[self._deg - index]\n",
    "    \n",
    "    def __setitem__(self, index, value):\n",
    "        self._com[self._deg - index] = value\n",
    "\n",
    "    def __len__(self):\n",
    "        return len(self._com)\n",
    "    \n",
    "    def __str__(self):\n",
    "        output = ''\n",
    "        for i in range(self._deg + 1):\n",
    "            if self._deg - i > 1:\n",
    "                output += (f\"{self._com[i]}x^{self._deg - i} + \")\n",
    "            elif self._deg - i == 1 and self._deg - i != 0:\n",
    "                output += (f\"{self._com[i]}x + \")\n",
    "            else:\n",
    "                output += (f\"{self._com[i]}\")\n",
    "        return output\n",
    "    \n",
    "    def first_der(self):\n",
    "        result = Polynomial(self._deg - 1)\n",
    "        for i in range(self._deg):\n",
    "            result[self._deg - i - 1] = (self._deg - i) * self[self._deg - i]\n",
    "        return result"
   ]
  },
  {
   "cell_type": "code",
   "execution_count": 53,
   "metadata": {},
   "outputs": [
    {
     "name": "stdout",
     "output_type": "stream",
     "text": [
      "Polynomial a at 5 degree: \n",
      "a = 1x^5 + 3x^4 + 5x^3 + 1x^2 + 1x + 0\n"
     ]
    }
   ],
   "source": [
    "num = int(input(\"Which degree a polynomial do you select: \"))\n",
    "a = Polynomial(num)\n",
    "a[4]=3\n",
    "a[3]=5\n",
    "a[0]=0\n",
    "print(f\"Polynomial a at {num} degree: \\na = {a}\")"
   ]
  },
  {
   "cell_type": "code",
   "execution_count": 54,
   "metadata": {},
   "outputs": [
    {
     "name": "stdout",
     "output_type": "stream",
     "text": [
      "5x^4 + 12x^3 + 15x^2 + 2x + 1\n"
     ]
    }
   ],
   "source": [
    "b = a.first_der()\n",
    "print(b)"
   ]
  },
  {
   "cell_type": "code",
   "execution_count": 55,
   "metadata": {},
   "outputs": [
    {
     "name": "stdout",
     "output_type": "stream",
     "text": [
      "120x + 72\n"
     ]
    }
   ],
   "source": [
    "c = b.first_der()\n",
    "d = c.first_der()\n",
    "print(d.first_der())"
   ]
  },
  {
   "cell_type": "markdown",
   "metadata": {},
   "source": [
    "## P-2.34\n",
    "Write a Python program that inputs a document and then outputs a barchart plot of the frequencies of each alphabet character that appears in\n",
    "that document"
   ]
  },
  {
   "cell_type": "code",
   "execution_count": 56,
   "metadata": {},
   "outputs": [
    {
     "name": "stdout",
     "output_type": "stream",
     "text": [
      "Counter({'a': 28, 's': 26, ' ': 22, 'e': 14, 'v': 13, 'h': 12, 'u': 11, 'x': 11, '\\n': 9, 'n': 9, 'c': 9, 'l': 9, 'd': 7, 't': 7, 'z': 7, 'o': 5, 'j': 5, 'i': 4, 'p': 4, 'k': 3, 'q': 3, 'y': 3, 'w': 3, 'g': 3, 'f': 2, 'b': 2})\n"
     ]
    },
    {
     "data": {
      "image/png": "[encoded data removed]",
      "text/plain": [
       "<Figure size 640x480 with 1 Axes>"
      ]
     },
     "metadata": {},
     "output_type": "display_data"
    }
   ],
   "source": [
    "import matplotlib.pyplot as plt\n",
    "from collections import Counter\n",
    "import os\n",
    "\n",
    "filename = \"text.txt\"\n",
    "with open(filename, 'r') as file:\n",
    "    lines = file.read()\n",
    "    lines = lines.lower()\n",
    "    counts=Counter(lines)\n",
    "    for i in lines:\n",
    "        counts[i]\n",
    "    print(counts)\n",
    "    myList = sorted(counts.items())\n",
    "    x, y = zip(*myList)\n",
    "    plt.plot(x, y)\n",
    "    plt.show()"
   ]
  },
  {
   "cell_type": "markdown",
   "metadata": {},
   "source": [
    "## P-2.35 \n",
    "Write a set of Python classes that can simulate an Internet application in\n",
    "which one party, Alice, is periodically creating a set of packets that she\n",
    "wants to send to Bob. An Internet process is continually checking if Alice\n",
    "has any packets to send, and if so, it delivers them to Bob’s computer, and\n",
    "Bob is periodically checking if his computer has a packet from Alice, and,\n",
    "if so, he reads and deletes it."
   ]
  },
  {
   "cell_type": "code",
   "execution_count": 1,
   "metadata": {},
   "outputs": [
    {
     "name": "stdout",
     "output_type": "stream",
     "text": [
      "Bob received: Hello, Bob! This is Alice.\n"
     ]
    }
   ],
   "source": [
    "class Packet:\n",
    "    def __init__(self, data):\n",
    "        self.data = data\n",
    "\n",
    "class InternetApplication:\n",
    "    def __init__(self):\n",
    "        self.alice_packets = []  # Packets created by Alice\n",
    "        self.bob_packets = []    # Packets received by Bob\n",
    "\n",
    "    def create_packet(self, data):\n",
    "        packet = Packet(data)\n",
    "        self.alice_packets.append(packet)\n",
    "\n",
    "    def check_for_packets(self):\n",
    "        if self.alice_packets:\n",
    "            return True\n",
    "        return False\n",
    "\n",
    "    def deliver_packet_to_bob(self):\n",
    "        if self.check_for_packets():\n",
    "            packet = self.alice_packets.pop(0)  # Get the first packet\n",
    "            self.bob_packets.append(packet)\n",
    "\n",
    "    def check_bob_packets(self):\n",
    "        if self.bob_packets:\n",
    "            return True\n",
    "        return False\n",
    "\n",
    "    def read_and_delete_packet(self):\n",
    "        if self.check_bob_packets():\n",
    "            packet = self.bob_packets.pop(0)  # Get the first packet\n",
    "            return packet.data\n",
    "        return None\n",
    "\n",
    "# Example usage:\n",
    "internet_app = InternetApplication()\n",
    "internet_app.create_packet(\"Hello, Bob! This is Alice.\")\n",
    "internet_app.deliver_packet_to_bob()\n",
    "\n",
    "if internet_app.check_bob_packets():\n",
    "    received_data = internet_app.read_and_delete_packet()\n",
    "    print(f\"Bob received: {received_data}\")\n",
    "else:\n",
    "    print(\"No packets for Bob yet.\")\n"
   ]
  },
  {
   "cell_type": "markdown",
   "metadata": {},
   "source": [
    "Sure! Here's a set of instructions on how you can approach solving the problem without providing actual code:\n",
    "\n",
    "1. **Identify the Objects**: First, identify the main objects involved in the simulation. In this case, you have Alice, Bob, and packets.\n",
    "\n",
    "2. **Define Classes**: Create classes for Alice, Bob, and Packets. Think about what attributes and methods each class might need. For example:\n",
    "   - Alice class: It should have a method to create packets.\n",
    "   - Bob class: It should have a method to receive and read packets.\n",
    "   - Packet class: It should represent the data packets that Alice sends to Bob. Think about what data or attributes a packet might need.\n",
    "\n",
    "3. **Implement Packet Creation**: In the Alice class, implement a method that periodically creates packets. You might use a timer or some form of scheduling mechanism for this task.\n",
    "\n",
    "4. **Implement Packet Delivery**: Create a process or mechanism that simulates the Internet process checking if Alice has any packets to send. If there are packets, deliver them to Bob's computer.\n",
    "\n",
    "5. **Implement Packet Reception**: In the Bob class, implement a method that periodically checks if his computer has a packet from Alice. If there is a packet, Bob should read and delete it.\n",
    "\n",
    "6. **Consider Concurrency**: Since Alice and Bob are performing actions periodically, you may need to consider using threading or asynchronous programming to handle their actions concurrently.\n",
    "\n",
    "7. **Error Handling**: Think about how you will handle errors or edge cases, such as what happens if Alice creates a packet but the Internet process fails to deliver it to Bob.\n",
    "\n",
    "8. **Testing and Debugging**: Once you've implemented the classes and the main logic, thoroughly test the simulation to ensure that packets are being created, delivered, received, and read as expected. Debug any issues that arise during testing.\n",
    "\n",
    "By following these instructions, you should be able to create a set of Python classes that simulate the scenario described, allowing Alice to send packets to Bob over the simulated Internet application."
   ]
  }
 ],
 "metadata": {
  "kernelspec": {
   "display_name": "Python 3",
   "language": "python",
   "name": "python3"
  },
  "language_info": {
   "codemirror_mode": {
    "name": "ipython",
    "version": 3
   },
   "file_extension": ".py",
   "mimetype": "text/x-python",
   "name": "python",
   "nbconvert_exporter": "python",
   "pygments_lexer": "ipython3",
   "version": "3.11.2"
  }
 },
 "nbformat": 4,
 "nbformat_minor": 2
}
