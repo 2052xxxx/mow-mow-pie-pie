{
 "cells": [
  {
   "cell_type": "markdown",
   "metadata": {},
   "source": [
    "# Chapter 2: OOP"
   ]
  },
  {
   "cell_type": "markdown",
   "metadata": {},
   "source": [
    "# Reinforcement"
   ]
  },
  {
   "cell_type": "markdown",
   "metadata": {},
   "source": [
    "## R-2.4\n",
    "Write a Python class, Flower, that has three instance variables of type str,\n",
    "int, and float, that respectively represent the name of the flower, its number of petals, and its price. Your class must include a constructor method\n",
    "that initializes each variable to an appropriate value, and your class should\n",
    "include methods for setting the value of each type, and retrieving the value\n",
    "of each type."
   ]
  },
  {
   "cell_type": "code",
   "execution_count": 1,
   "metadata": {},
   "outputs": [
    {
     "data": {
      "text/plain": [
       "'rose'"
      ]
     },
     "execution_count": 1,
     "metadata": {},
     "output_type": "execute_result"
    }
   ],
   "source": [
    "class Flower:\n",
    "    def __init__(self, name: str, petals: int, price: float):\n",
    "        self._name = name\n",
    "        self._petals = petals\n",
    "        self._price = price\n",
    "    \n",
    "    def getName(self):\n",
    "        return self._name\n",
    "    \n",
    "    def getPetals(self):\n",
    "        return self._petals\n",
    "    \n",
    "    def getPrice(self):\n",
    "        return self._price\n",
    "\n",
    "a = Flower(\"rose\", 2, 3)\n",
    "a.getName()\n"
   ]
  },
  {
   "cell_type": "markdown",
   "metadata": {},
   "source": [
    "## R-2.5 \n",
    "Use the techniques of Section 1.7 to revise the charge and make payment\n",
    "methods of the CreditCard class to ensure that the caller sends a number\n",
    "as a parameter."
   ]
  },
  {
   "cell_type": "code",
   "execution_count": 2,
   "metadata": {},
   "outputs": [
    {
     "name": "stdout",
     "output_type": "stream",
     "text": [
      "None\n",
      "-400\n"
     ]
    }
   ],
   "source": [
    "class CreditCard:\n",
    "    def __init__ (self, customer, bank, acnt, limit):\n",
    "        self._customer = customer\n",
    "        self._bank = bank\n",
    "        self._acnt = acnt\n",
    "        self._limit = limit\n",
    "        self._balance = 0\n",
    "    \n",
    "    def get_customer(self):\n",
    "        return self._customer\n",
    "\n",
    "    def get_bank(self):\n",
    "        return self._bank\n",
    "    \n",
    "    def get_acnt(self):\n",
    "        return self._acnt\n",
    "    \n",
    "    def get_limit(self):\n",
    "        return self._limit\n",
    "    \n",
    "    def get_balance(self):\n",
    "        return self._balance\n",
    "    \n",
    "    def charge(self, price):\n",
    "        if type(price) != int:\n",
    "            raise TypeError(\"ngu1\")\n",
    "        \n",
    "        if price + self._balance > self._limit:\n",
    "            return False\n",
    "        else:\n",
    "            self._balance += price\n",
    "            return True\n",
    "        \n",
    "    def make_payment(self, amount):\n",
    "        if type(amount) != int:\n",
    "            raise TypeError(\"ngu2\")\n",
    "        self._balance -= amount\n",
    "\n",
    "a = CreditCard(\"John Bowman\" , \"California Savings\" , \"56 5391 0375 9387 5309\" , 2000)\n",
    "print(a.make_payment(400))\n",
    "print(a.get_balance())"
   ]
  },
  {
   "cell_type": "markdown",
   "metadata": {},
   "source": [
    "## R-2.6 \n",
    "If the parameter to the make payment method of the CreditCard class\n",
    "were a negative number, that would have the effect of raising the balance\n",
    "on the account. Revise the implementation so that it raises a ValueError if\n",
    "a negative value is sent."
   ]
  },
  {
   "cell_type": "code",
   "execution_count": 3,
   "metadata": {},
   "outputs": [
    {
     "name": "stdout",
     "output_type": "stream",
     "text": [
      "hong co am\n"
     ]
    }
   ],
   "source": [
    "class R26(CreditCard):\n",
    "    def make_payment(self, price):\n",
    "        super().make_payment(price)\n",
    "        if price < 0:\n",
    "            return ValueError(\"hong co am\")\n",
    "\n",
    "b = R26(\"John Bowman\" , \"California Savings\" , \"56 5391 0375 9387 5309\" , 2000)\n",
    "print(b.make_payment(-1))\n"
   ]
  },
  {
   "cell_type": "markdown",
   "metadata": {},
   "source": [
    "## R-2.7 \n",
    "The CreditCard class of Section 2.3 initializes the balance of a new account to zero. Modify that class so that a new account can be given a\n",
    "nonzero balance using an optional fifth parameter to the constructor. The\n",
    "four-parameter constructor syntax should continue to produce an account\n",
    "with zero balance."
   ]
  },
  {
   "cell_type": "code",
   "execution_count": 4,
   "metadata": {},
   "outputs": [
    {
     "data": {
      "text/plain": [
       "5"
      ]
     },
     "execution_count": 4,
     "metadata": {},
     "output_type": "execute_result"
    }
   ],
   "source": [
    "class R27(CreditCard):\n",
    "    def __init__(self, customer, bank, acnt, limit, balance):\n",
    "        super().__init__(customer, bank, acnt, limit)\n",
    "        self._balance = balance\n",
    "\n",
    "b = R27(\"John Bowman\" , \"California Savings\" , \"56 5391 0375 9387 5309\" , 2000, 5)\n",
    "b.get_balance()"
   ]
  },
  {
   "cell_type": "markdown",
   "metadata": {},
   "source": [
    "## R-2.8 \n",
    "Modify the declaration of the first for loop in the CreditCard tests, from\n",
    "Code Fragment 2.3, so that it will eventually cause exactly one of the three\n",
    "credit cards to go over its credit limit. Which credit card is it?"
   ]
  },
  {
   "cell_type": "code",
   "execution_count": 5,
   "metadata": {},
   "outputs": [
    {
     "name": "stdout",
     "output_type": "stream",
     "text": [
      "Customer = John Bowman\n",
      "Bank = California Savings\n",
      "Account = 5391 0375 9387 5309\n",
      "Limit = 2500\n",
      "Balance = 1722\n",
      "New balance = 22 \n",
      "\n",
      "Customer = John Bowman\n",
      "Bank = California Federal\n",
      "Account = 3485 0399 3395 1954\n",
      "Limit = 3500\n",
      "Balance = 3444\n",
      "New balance = 44 \n",
      "\n",
      "Customer = John Bowman\n",
      "Bank = California Finance\n",
      "Account = 5391 0375 9387 5309\n",
      "Limit = 0\n",
      "Balance = 4920\n",
      "New balance = 20 \n",
      "\n"
     ]
    }
   ],
   "source": [
    "class R28(CreditCard):\n",
    "    def charge(self, price):\n",
    "        super().charge(price)\n",
    "        if price + self._balance > self._limit:\n",
    "            self._limit = 0\n",
    "            return False\n",
    "        else:\n",
    "            self._balance += price\n",
    "            return True\n",
    "        \n",
    "\n",
    "wallet = [ ]\n",
    "wallet.append(R28( \"John Bowman\" , \"California Savings\" , \"5391 0375 9387 5309\" , 2500) )\n",
    "wallet.append(R28( \"John Bowman\" , \"California Federal\" , \"3485 0399 3395 1954\" , 3500) )\n",
    "wallet.append(R28( \"John Bowman\" , \"California Finance\" , \"5391 0375 9387 5309\" , 5000) )\n",
    "\n",
    "for val in range(1, 42):\n",
    "    wallet[0].charge(val)\n",
    "    wallet[1].charge(2*val)\n",
    "    wallet[2].charge(3*val)\n",
    "\n",
    "for c in range(3):\n",
    "    print(\"Customer =\", wallet[c].get_customer())\n",
    "    print(\"Bank =\", wallet[c].get_bank())\n",
    "    print(\"Account =\", wallet[c].get_acnt())\n",
    "    print(\"Limit =\", wallet[c].get_limit())\n",
    "    print(\"Balance =\", wallet[c].get_balance())\n",
    "    while wallet[c].get_balance() > 100:\n",
    "        wallet[c].make_payment(100)\n",
    "    print(\"New balance =\", wallet[c].get_balance(), \"\\n\")\n",
    "    "
   ]
  },
  {
   "cell_type": "markdown",
   "metadata": {},
   "source": [
    "## R-2.9 \n",
    "Implement the sub method for the Vector class of Section 2.3.3, so\n",
    "that the expression u−v returns a new vector instance representing the\n",
    "difference between two vectors."
   ]
  },
  {
   "cell_type": "code",
   "execution_count": 6,
   "metadata": {},
   "outputs": [
    {
     "name": "stdout",
     "output_type": "stream",
     "text": [
      "0\n",
      "<0, 46, 0, 0, 0>\n",
      "<0, -17, 0, 0, 0>\n"
     ]
    }
   ],
   "source": [
    "class Vector:\n",
    "    \"\"\"Represent a vector in a multidimensional space.\"\"\"\n",
    "    \n",
    "    def __init__(self, dimension):\n",
    "        \"\"\"Initialize a vector with zeros in all dimensions.\"\"\"\n",
    "        self._coords = [0] * dimension\n",
    "    \n",
    "    # def getHuh(self):\n",
    "    #     return self._coords\n",
    "\n",
    "    def __len__(self):\n",
    "        \"\"\"Return the number of dimensions in the vector.\"\"\"\n",
    "        return len(self._coords)\n",
    "    \n",
    "    def __getitem__(self, index):\n",
    "        \"\"\"Access the element at the specified index.\"\"\"\n",
    "        return self._coords[index]\n",
    "    \n",
    "    def __setitem__(self, index, value):\n",
    "        \"\"\"Set the element at the specified index.\"\"\"\n",
    "        self._coords[index] = value\n",
    "    \n",
    "    def __str__(self):\n",
    "        return  '<' + str(self._coords)[1:-1] + '>'\n",
    "\n",
    "    def __add__(self, other):\n",
    "        \"\"\"Add two vectors element-wise.\"\"\"\n",
    "        if len(self) != len(other):\n",
    "            raise ValueError(\"Vectors must have the same dimensions\")\n",
    "        result = Vector(len(self))\n",
    "        for i in range(len(self)):\n",
    "            result[i] = self[i] + other[i]\n",
    "        return result\n",
    "\n",
    "    def __sub__(self, other):\n",
    "        if len(self) != len(other):\n",
    "            raise ValueError(\"Vectors must have the same dimensions\")\n",
    "        result = Vector(len(self))\n",
    "        for i in range(len(self)):\n",
    "            result[i] = self[i] - other[i]\n",
    "        return result\n",
    "\n",
    "# Example usage:\n",
    "v = Vector(5)  # Create a 5-dimensional vector\n",
    "i = Vector(5)  # Create a 5-dimensional vector\n",
    "v[1] = 23      # Set an element\n",
    "i[1] = 40 \n",
    "print(v[4])    # Access an element\n",
    "u = v + v      # Vector addition\n",
    "print(u)       # Prints <0, 46, 0, 0, 90>\n",
    "u = v - i\n",
    "print(u)\n"
   ]
  },
  {
   "cell_type": "markdown",
   "metadata": {},
   "source": [
    "## R-2.10 \n",
    "Implement the __ neg__ method for the Vector class of Section 2.3.3, so\n",
    "that the expression −v returns a new vector instance whose coordinates\n",
    "are all the negated values of the respective coordinates of v."
   ]
  },
  {
   "cell_type": "code",
   "execution_count": 7,
   "metadata": {},
   "outputs": [
    {
     "name": "stdout",
     "output_type": "stream",
     "text": [
      "<0, 0, 0, -4, 3>\n"
     ]
    }
   ],
   "source": [
    "class Vector(Vector):\n",
    "    def __neg__(self):\n",
    "        result = Vector(len(self))\n",
    "        for i in range(len(self)):\n",
    "            result[i] = -self[i]\n",
    "        return result \n",
    "    \n",
    "v = Vector(5)\n",
    "v[3]=4\n",
    "v[4]=-3\n",
    "print(-v)"
   ]
  },
  {
   "cell_type": "markdown",
   "metadata": {},
   "source": [
    "## R-2.11 \n",
    "In Section 2.3.3, we note that our Vector class supports a syntax such as\n",
    "v = u + [5, 3, 10, −2, 1], in which the sum of a vector and list returns\n",
    "a new vector. However, the syntax v = [5, 3, 10, −2, 1] + u is illegal.\n",
    "Explain how the Vector class definition can be revised so that this syntax\n",
    "generates a new vector."
   ]
  },
  {
   "cell_type": "code",
   "execution_count": 8,
   "metadata": {},
   "outputs": [
    {
     "name": "stdout",
     "output_type": "stream",
     "text": [
      "<5, 49, 10, -2, 1>\n"
     ]
    }
   ],
   "source": [
    "class Vector(Vector):\n",
    "    def __radd__(self, other):\n",
    "        return self.__add__(other)\n",
    "\n",
    "u = Vector(5)\n",
    "u[1] = 46\n",
    "v = [5, 3, 10, -2, 1] + u\n",
    "print(v)  # Output should be [5, 49, 10, -2, 1]"
   ]
  },
  {
   "cell_type": "markdown",
   "metadata": {},
   "source": [
    "## R-2.12 & R-2.13\n",
    "Implement the mul method for the Vector class of Section 2.3.3, so\n",
    "that the expression v*3 returns a new vector with coordinates that are 3\n",
    "times the respective coordinates of v."
   ]
  },
  {
   "cell_type": "code",
   "execution_count": 9,
   "metadata": {},
   "outputs": [
    {
     "name": "stdout",
     "output_type": "stream",
     "text": [
      "<0, -27, 36, 0, 0>\n",
      "<0, 46, 0, 0, 0>\n"
     ]
    }
   ],
   "source": [
    "class Vector(Vector):\n",
    "    def __mul__(self, num):\n",
    "        result = Vector(len(self))\n",
    "        for i in range(len(self)):\n",
    "            result[i] = num * self[i]\n",
    "        return result\n",
    "    \n",
    "    def __rmul__(self, other):\n",
    "        return self.__mul__(other)\n",
    "\n",
    "v = Vector(5)\n",
    "v[2]=12\n",
    "v[1]=-9\n",
    "print(v*3)\n",
    "print(u)"
   ]
  },
  {
   "cell_type": "markdown",
   "metadata": {},
   "source": [
    "## R-2.14 \n",
    "Implement the mul method for the Vector class of Section 2.3.3, so\n",
    "that the expression u*v returns a scalar that represents the dot product of\n",
    "the vectors, that is, $\\sum_{i=1}^{n} u_i \\cdot v_i $\n",
    "\n",
    "\n"
   ]
  },
  {
   "cell_type": "code",
   "execution_count": 162,
   "metadata": {},
   "outputs": [],
   "source": [
    "class Vector(Vector):\n",
    "    def append(self, other: list):\n",
    "        self._coords += other\n",
    "        \n",
    "    def __mul__(self, other):\n",
    "        if type(other) == int:\n",
    "            return super().__mul__(other)\n",
    "        else:\n",
    "            result = 0\n",
    "            if len(self) != len(other):\n",
    "                gap = abs(len(self) - len(other))\n",
    "                if len(self) < len(other):\n",
    "                    while gap != 0:\n",
    "                        self.append([0])\n",
    "                        gap -= 1\n",
    "                else:\n",
    "                    while gap != 0:\n",
    "                        other.append([0])\n",
    "                        gap -= 1\n",
    "            for i in range(len(self)):\n",
    "                result += (self[i] * other[i])\n",
    "            return result"
   ]
  },
  {
   "cell_type": "code",
   "execution_count": 165,
   "metadata": {},
   "outputs": [
    {
     "name": "stdout",
     "output_type": "stream",
     "text": [
      "<3, -9, 12, 0, 0>\n",
      "<0, -7, 2>\n"
     ]
    }
   ],
   "source": [
    "v = Vector(5)\n",
    "u = Vector(3)\n",
    "v[2]=12\n",
    "v[1]=-9\n",
    "v[0]=3\n",
    "\n",
    "u[2]=2\n",
    "u[1]=-7\n",
    "v[4]=0\n",
    "print(v)\n",
    "print(u)"
   ]
  },
  {
   "cell_type": "code",
   "execution_count": 166,
   "metadata": {},
   "outputs": [
    {
     "name": "stdout",
     "output_type": "stream",
     "text": [
      "<9, -27, 36, 0, 0>\n"
     ]
    }
   ],
   "source": [
    "ef = v*3\n",
    "print(ef)"
   ]
  },
  {
   "cell_type": "markdown",
   "metadata": {},
   "source": [
    "## R-2.15 \n",
    "Modify the constructor so that either of these forms is\n",
    "acceptable; that is, if a single integer is sent, it produces a vector of that\n",
    "dimension with all zeros, but if a sequence of numbers is provided, it pro\u0002duces a vector with coordinates based on that sequence."
   ]
  },
  {
   "cell_type": "code",
   "execution_count": 15,
   "metadata": {},
   "outputs": [
    {
     "name": "stdout",
     "output_type": "stream",
     "text": [
      "<0, 0, 0, 0, 0> <2, 3, 4>\n"
     ]
    }
   ],
   "source": [
    "class Vector(Vector):\n",
    "    def __init__(self, dimension):\n",
    "        if type(dimension) == int:\n",
    "            super().__init__(dimension)\n",
    "        elif type(dimension) == list:\n",
    "            self._coords = dimension\n",
    "        else:\n",
    "            raise ValueError(\"Invalid dimension type\")\n",
    "\n",
    "v = Vector(5)\n",
    "u = Vector([2,3,4])\n",
    "print(v, u)\n"
   ]
  },
  {
   "cell_type": "markdown",
   "metadata": {},
   "source": [
    "## R-2.16\n",
    "Our Range class, from Section 2.3.5, relies on the formula __max(0, (stop − start + step − 1) // step)__\n",
    "to compute the number of elements in the range. It is not immediately evident why this formula provides the correct calculation, even if assuming\n",
    "a positive step size. Justify this formula, in your own words."
   ]
  },
  {
   "cell_type": "code",
   "execution_count": 16,
   "metadata": {},
   "outputs": [],
   "source": [
    "class Range:\n",
    "    def __init__(self, start, stop=None, step=1):\n",
    "        \"\"\"Initialize a Range instance.\n",
    "        \n",
    "        Semantics is similar to the built-in range class.\n",
    "        \"\"\"\n",
    "        if step == 0:\n",
    "            raise ValueError(\"step cannot be 0\")\n",
    "        \n",
    "        if stop is None:  # special case of range(n)\n",
    "            start, stop = 0, start  # should be treated as if range(0, n)\n",
    "        \n",
    "        # calculate the effective length once\n",
    "        self.length = max(0, (stop - start + step - 1) // step)\n",
    "        \n",
    "        # need knowledge of start and step (but not stop) to support getitem\n",
    "        self.start = start\n",
    "        self.step = step\n",
    "        \n",
    "    def __len__(self):\n",
    "        \"\"\"Return number of entries in the range.\"\"\"\n",
    "        return self.length\n",
    "    \n",
    "    def __getitem__(self, k):\n",
    "        \"\"\"Return entry at index k (using standard interpretation if negative).\"\"\"\n",
    "        if k < 0:\n",
    "            k += len(self)  # attempt to convert negative index\n",
    "        \n",
    "        if not 0 <= k < self.length:\n",
    "            raise IndexError(\"index out of range\")\n",
    "        \n",
    "        return self.start + k * self.step\n",
    "\n"
   ]
  },
  {
   "cell_type": "markdown",
   "metadata": {},
   "source": [
    "## R-2.17 \n",
    "Draw a class inheritance diagram for the following set of classes:\n",
    "- Class Goat extends 'object' and adds an instance variable _tail and\n",
    "methods milk( ) and jump( ).\n",
    "- Class Pig extends 'object' and adds an instance variable _nose and\n",
    "methods eat(food) and wallow( ).\n",
    "- Class Horse extends 'object' and adds instance variables _height and\n",
    "_color, and methods run( ) and jump( ).\n",
    "- Class Racer extends Horse and adds a method race( ).\n",
    "- Class Equestrian extends Horse, adding an instance variable _weight\n",
    "and methods trot( ) and is_trained( )."
   ]
  },
  {
   "cell_type": "code",
   "execution_count": 17,
   "metadata": {},
   "outputs": [],
   "source": [
    "class Goat(object):\n",
    "    def __init__(self, tail):\n",
    "        self._tail = tail\n",
    "    \n",
    "    def milk():\n",
    "        pass\n",
    "    \n",
    "    def jump():\n",
    "        pass\n",
    "\n",
    "class Pig(object):\n",
    "    def __init__(self, nose):\n",
    "        self._nose = nose\n",
    "\n",
    "    def eat(food: str):\n",
    "        return food\n",
    "    \n",
    "    def wallow():\n",
    "        pass\n",
    "\n",
    "class Horse(object):\n",
    "    def __init__(self, height, color):\n",
    "        self._height = height\n",
    "        self._color = color\n",
    "    \n",
    "    def run():\n",
    "        pass\n",
    "    \n",
    "    def jump():\n",
    "        pass\n",
    "\n",
    "class Racer(Horse):\n",
    "    def race():\n",
    "        pass\n",
    "\n",
    "class Equestrian(Horse):\n",
    "    def __init__(self, height, color, weight):\n",
    "        super().__init__(height, color)\n",
    "        self._weight = weight"
   ]
  },
  {
   "cell_type": "markdown",
   "metadata": {},
   "source": [
    "## R-2.18\n",
    "Give a short fragment of Python code that uses the progression classes\n",
    "from Section 2.4.2 to find the 8th value of a Fibonacci progression that\n",
    "starts with 2 and 2 as its first two values."
   ]
  },
  {
   "cell_type": "code",
   "execution_count": 18,
   "metadata": {},
   "outputs": [],
   "source": [
    "class Progression:\n",
    "    def __init__(self, start=0):\n",
    "        self._current = start\n",
    "\n",
    "    def _advance(self):\n",
    "        self._current +=1\n",
    "    \n",
    "    def __next__(self):\n",
    "        if self._current is None:\n",
    "            raise StopIteration()\n",
    "        else:\n",
    "            answer = self._current\n",
    "            self._advance()\n",
    "            return answer\n",
    "        \n",
    "    def __iter__(self):\n",
    "        return self\n",
    "    \n",
    "    def print_progression(self, n):\n",
    "        print(' '.join(str(next(self)) for j in range(n))) \n",
    "\n",
    "class Fibonacci(Progression):\n",
    "    def __init__(self, start=0, follow=1):\n",
    "        super().__init__(start)\n",
    "        self._previous = follow - start\n",
    "    \n",
    "    def _advance(self):\n",
    "        self._previous, self._current = self._current, self._previous + self._current\n"
   ]
  },
  {
   "cell_type": "code",
   "execution_count": 19,
   "metadata": {},
   "outputs": [
    {
     "name": "stdout",
     "output_type": "stream",
     "text": [
      "Fibonacci progression with default start values:\n",
      "2 2 4 6 10 16 26 42\n"
     ]
    }
   ],
   "source": [
    "print( 'Fibonacci progression with default start values:' )\n",
    "Fibonacci(2,2).print_progression(8)"
   ]
  },
  {
   "cell_type": "markdown",
   "metadata": {},
   "source": [
    "## R-2.19 \n",
    "When using the ArithmeticProgression class of Section 2.4.2 with an increment of 128 and a start of 0, how many calls to next can we make\n",
    "before we reach an integer of $2^{63}$ or larger?\n",
    "\n",
    "> ___Answer:___ To find the number of calls needed, we solve the following inequality:\n",
    "\n",
    "$ \\text{current value} + n \\times \\text{increment} \\geq 2^{63} $\n",
    "\n",
    "Substituting the given values:\n",
    "\n",
    "$ 256 + 128n \\geq 2^{63} $\n",
    "\n",
    "Solving for (n):\n",
    "\n",
    "$ n \\geq \\frac{2^{63} - 256}{128} $\n",
    "\n",
    "Calculating this expression:\n",
    "\n",
    "$ n \\geq 2^{55} - 2 $"
   ]
  },
  {
   "cell_type": "markdown",
   "metadata": {},
   "source": [
    "\n",
    "## R-2.20 \n",
    "What are some potential efficiency disadvantages of having very deep inheritance trees, that is, a large set of classes, A, B, C, and so on, such that\n",
    "B extends A, C extends B, D extends C, etc.?\n",
    "\n",
    "> ___Answer:___\n",
    "\n",
    "__1.__ _Method Dispatch Overhead:_\n",
    "\n",
    "In deep inheritance hierarchies, method calls can become less efficient due to the need for runtime method dispatch. When a method is invoked on an object, the runtime must traverse the entire inheritance chain to find the appropriate implementation.\n",
    "\n",
    "__2.__ _Constructor Chain and Super Calls:_\n",
    "\n",
    "Constructors in derived classes often invoke the constructor of their parent class using supe().\n",
    "In deep inheritance trees, this chain of constructor calls can become lengthy, leading to potential performance overhead.\n",
    "\n",
    "__3.__ _Increased Memory Usage:_\n",
    "\n",
    "Each level of inheritance introduces additional memory overhead.\n",
    "Objects of derived classes carry the data members of their parent classes as well.\n",
    "In deep hierarchies, memory usage can accumulate significantly."
   ]
  },
  {
   "cell_type": "markdown",
   "metadata": {},
   "source": [
    "\n",
    "## R-2.21 \n",
    "What are some potential efficiency disadvantages of having very shallow\n",
    "inheritance trees, that is, a large set of classes, A, B, C, and so on, such\n",
    "that all of these classes extend a single class, Z?\n",
    "\n",
    "> ___Answer:___\n",
    "\n",
    "__1.__ _Code Duplication:_\n",
    "\n",
    "Shallow inheritance trees can lead to code duplication.\n",
    "If multiple classes share common functionality, they may reimplement the same methods or attributes inherited from class Z.\n",
    "This redundancy increases maintenance effort and can introduce inconsistencies.\n",
    "\n",
    "__2.__ _Difficulty in Code Maintenance:_\n",
    "\n",
    "With many classes extending a single base class, changes to the base class can impact all derived classes.\n",
    "Ensuring consistent behavior across all subclasses becomes challenging.\n",
    "Debugging and maintaining such code can be cumbersome.\n",
    "\n",
    "__3.__ _Reduced Flexibility and Abstraction:_\n",
    "\n",
    "Shallow inheritance limits the flexibility to create specialized subclasses.\n",
    "It may be harder to model specific behaviors or variations.\n",
    "Hierarchies with deeper inheritance allow for more fine-grained specialization.\n",
    "\n",
    "__4.__ _Inefficient Use of Memory:_\n",
    "\n",
    "Each instance of a derived class carries the data members inherited from class Z.\n",
    "If these members are not relevant to all subclasses, memory usage becomes inefficient.\n",
    "In contrast, deeper hierarchies allow more targeted data sharing."
   ]
  },
  {
   "cell_type": "markdown",
   "metadata": {},
   "source": [
    "\n",
    "## R-2.22 & R-2.23 \n",
    "The collections.Sequence abstract base class does not provide support for\n",
    "comparing two sequences to each other. Modify our Sequence class from\n",
    "Code Fragment 2.14 to include a definition for the __eq __ method, so\n",
    "that expression seq1 == seq2 will return True precisely when the two\n",
    "sequences are element by element equivalent.\n",
    "\n",
    "In similar spirit to the previous problem, augment the Sequence class with\n",
    "method __\n",
    "lt__ , to support lexicographic comparison seq1 < seq2."
   ]
  },
  {
   "cell_type": "code",
   "execution_count": 20,
   "metadata": {},
   "outputs": [],
   "source": [
    "from abc import ABCMeta, abstractmethod\n",
    "\n",
    "class Sequence(metaclass=ABCMeta):\n",
    "    def __init__(self, seq):\n",
    "        self._seq = seq\n",
    "    \n",
    "    def __len__(self):\n",
    "        \"\"\"Return the number of dimensions in the vector.\"\"\"\n",
    "        return len(self._seq)\n",
    "    \n",
    "    def __getitem__(self, index):\n",
    "        \"\"\"Access the element at the specified index.\"\"\"\n",
    "        return self._seq[index]\n",
    "\n",
    "    def __contains__(self, val):\n",
    "        for j in range(len(self)):\n",
    "            if self[j] == val:\n",
    "                return True\n",
    "        return False\n",
    "    \n",
    "    def __eq__(self, val) -> bool:\n",
    "        if len(self) != len(val):\n",
    "            raise ValueError('Two objects must have equal lenght')\n",
    "        for i in range(len(self)):\n",
    "            if self[i] != val[i]:\n",
    "                return False\n",
    "        return True\n",
    "    \n",
    "    def __lt__(self, val):\n",
    "        if len(self) != len(val):\n",
    "            return True if len(self) < len(val) else False\n",
    "        else:\n",
    "            for i in range(len(self)):\n",
    "                if self[i] > val[i]:\n",
    "                    return False\n",
    "            return True\n",
    "\n",
    "    def index(self, val):\n",
    "        for j in range(len(self)):\n",
    "            if self[j] == val:\n",
    "                return j\n",
    "        raise ValueError('value not in sequence')\n",
    "    \n",
    "    def count(self, val):\n",
    "        k = 0\n",
    "        for j in range(len(self)):\n",
    "            if self[j] == val:\n",
    "                k += 1\n",
    "        return k"
   ]
  },
  {
   "cell_type": "code",
   "execution_count": 21,
   "metadata": {},
   "outputs": [
    {
     "name": "stdout",
     "output_type": "stream",
     "text": [
      "Are seq1 less than seq2 equal? False\n"
     ]
    }
   ],
   "source": [
    "# Create two sequences\n",
    "seq1 = Sequence(['b','gewrwerew','x'])\n",
    "seq2 = Sequence(['b','g','x'])\n",
    "\n",
    "# Check if they are equal\n",
    "result = seq1 < seq2\n",
    "\n",
    "print(f\"Are seq1 less than seq2 equal? {result}\")\n"
   ]
  },
  {
   "cell_type": "code",
   "execution_count": 22,
   "metadata": {},
   "outputs": [
    {
     "name": "stdout",
     "output_type": "stream",
     "text": [
      "False\n"
     ]
    }
   ],
   "source": [
    "str1 = ['b','g','x']\n",
    "str2 = ['a','e','b']\n",
    "\n",
    "result = str1 < str2\n",
    "print(result)"
   ]
  },
  {
   "cell_type": "markdown",
   "metadata": {},
   "source": [
    "# Creativity"
   ]
  },
  {
   "cell_type": "markdown",
   "metadata": {},
   "source": [
    "## C-2.24 \n",
    "Suppose you are on the design team for a new e-book reader. What are the\n",
    "primary classes and methods that the Python software for your reader will\n",
    "need? You should include an inheritance diagram for this code, but you\n",
    "do not need to write any actual code. Your software architecture should\n",
    "at least include ways for customers to buy new books, view their list of\n",
    "purchased books, and read their purchased books."
   ]
  },
  {
   "cell_type": "markdown",
   "metadata": {},
   "source": [
    "class Books: \n",
    "- id, name, author, price, content\n",
    "- getname, getauthor, getprice, getcontent\n",
    "\n",
    "class Customer:\n",
    "- id, name, purchased\n",
    "- buybook(book), viewbooks, readbook(book)\n",
    "\n",
    "class EBookReader (inherits from Customer):\n",
    "- available_books\n",
    "- add_book(book), display_available_books(), read_purchased_book(book)"
   ]
  },
  {
   "cell_type": "markdown",
   "metadata": {},
   "source": [
    "## C-2.25 \n",
    "Exercise R-2.12 uses the mul method to support multiplying a Vector\n",
    "by a number, while Exercise R-2.14 uses the mul method to support\n",
    "computing a dot product of two vectors. Give a single implementation of\n",
    "Vector. mul that uses run-time type checking to support both syntaxes\n",
    "u v and u k, where u and v designate vector instances and k represents\n",
    "a number. [R-2.14](#r-218)"
   ]
  },
  {
   "cell_type": "code",
   "execution_count": null,
   "metadata": {},
   "outputs": [],
   "source": []
  }
 ],
 "metadata": {
  "kernelspec": {
   "display_name": "Python 3",
   "language": "python",
   "name": "python3"
  },
  "language_info": {
   "codemirror_mode": {
    "name": "ipython",
    "version": 3
   },
   "file_extension": ".py",
   "mimetype": "text/x-python",
   "name": "python",
   "nbconvert_exporter": "python",
   "pygments_lexer": "ipython3",
   "version": "3.11.2"
  }
 },
 "nbformat": 4,
 "nbformat_minor": 2
}
