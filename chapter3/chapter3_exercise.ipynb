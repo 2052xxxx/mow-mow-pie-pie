{
 "cells": [
  {
   "cell_type": "markdown",
   "metadata": {},
   "source": [
    "## R-3.1 \n",
    "Graph the functions 8n, 4nlogn, 2n2, n3, and 2n using a logarithmic scale\n",
    "for the x- and y-axes; that is, if the function value f(n) is y, plot this as a\n",
    "point with x-coordinate at logn and y-coordinate at logy."
   ]
  },
  {
   "cell_type": "code",
   "execution_count": 1,
   "metadata": {},
   "outputs": [
    {
     "data": {
      "image/png": "[encoded data removed]",
      "text/plain": [
       "<Figure size 640x480 with 1 Axes>"
      ]
     },
     "metadata": {},
     "output_type": "display_data"
    }
   ],
   "source": [
    "import matplotlib.pyplot as plt\n",
    "\n",
    "xpoints = [0, 6]\n",
    "ypoints =[0, 250]\n",
    "\n",
    "plt.plot(xpoints, ypoints)\n",
    "plt.show()"
   ]
  },
  {
   "cell_type": "markdown",
   "metadata": {},
   "source": [
    "Find the smallest positive number missing from an unsorted array"
   ]
  },
  {
   "cell_type": "code",
   "execution_count": 72,
   "metadata": {},
   "outputs": [
    {
     "data": {
      "text/plain": [
       "3"
      ]
     },
     "execution_count": 72,
     "metadata": {},
     "output_type": "execute_result"
    }
   ],
   "source": [
    "def solution(A):\n",
    "    A.sort()\n",
    "    A = list(set(A))\n",
    "    b = [0] * max(A)\n",
    "    if max(A) <= 0:\n",
    "        return 1\n",
    "    if len(A) == 1:\n",
    "        return 2 if A[0] == 1 else 1\n",
    "    for i in A:\n",
    "        if i>0 and b[i-1] != 1: \n",
    "            b[i-1] = 1\n",
    "    for j, value in enumerate(b):\n",
    "        if value == 0:\n",
    "            return j+1\n",
    "    return j+2    \n",
    "    \n",
    "A = [2, 1, -3]\n",
    "# len(range(1,4))\n",
    "solution(A)"
   ]
  },
  {
   "cell_type": "code",
   "execution_count": 57,
   "metadata": {},
   "outputs": [
    {
     "name": "stdout",
     "output_type": "stream",
     "text": [
      "6\n"
     ]
    }
   ],
   "source": [
    "def solution(A): # Our original array\n",
    "\tif len(A) == 1:\n",
    "\t\treturn 2 if A[0] == 1 else 1\n",
    "\t\n",
    "\tm = max(A) # Storing maximum value\n",
    "\tif m < 1:\n",
    "\t\treturn 1\n",
    "\t\n",
    "\tl = [0] * m\n",
    "\tfor i in range(len(A)):\n",
    "\t\tif A[i] > 0:\n",
    "\t\t\tif l[A[i] - 1] != 1:\n",
    "\t\t\t\tl[A[i] - 1] = 1 # Changing the value status at the index of our list\n",
    "\tfor i in range(len(l)):\n",
    "\t\tif l[i] == 0: # Encountering first 0, i.e, the element with least value\n",
    "\t\t\treturn i + 1 \n",
    "\t\t\t# In case all values are filled between 1 and m\n",
    "\treturn i + 2\n",
    "\n",
    "\n",
    "# Driver Code\n",
    "if __name__ == '__main__':\n",
    "\tA = [1, 2, 3, 4, 5]\n",
    "# Expected output: 6\n",
    "\n",
    "\tprint(solution(A))\n"
   ]
  },
  {
   "cell_type": "markdown",
   "metadata": {},
   "source": [
    "find max 0-repeat distance in between 1"
   ]
  },
  {
   "cell_type": "code",
   "execution_count": 40,
   "metadata": {},
   "outputs": [
    {
     "name": "stdout",
     "output_type": "stream",
     "text": [
      "2\n"
     ]
    }
   ],
   "source": [
    "def solution(N):\n",
    "    binary = bin(N)[2:].strip(\"0\").split(\"1\")\n",
    "    return max(len(x) for x in binary)\n",
    "\n",
    "print(solution(9))"
   ]
  },
  {
   "cell_type": "code",
   "execution_count": 62,
   "metadata": {},
   "outputs": [
    {
     "name": "stdout",
     "output_type": "stream",
     "text": [
      "['', '00', '']\n"
     ]
    }
   ],
   "source": [
    "binary = bin(9)[2:].strip(\"0\").split(\"1\")\n",
    "print(binary)"
   ]
  },
  {
   "cell_type": "code",
   "execution_count": 43,
   "metadata": {},
   "outputs": [
    {
     "name": "stdout",
     "output_type": "stream",
     "text": [
      "['', '00000', '000', '']\n"
     ]
    }
   ],
   "source": [
    "a = f'{1041:b}'.strip('0').split('1')\n",
    "print(a)"
   ]
  },
  {
   "cell_type": "markdown",
   "metadata": {},
   "source": [
    "rotate array A K times"
   ]
  },
  {
   "cell_type": "code",
   "execution_count": 76,
   "metadata": {},
   "outputs": [
    {
     "data": {
      "text/plain": [
       "[6, 3, 8, 9, 7]"
      ]
     },
     "execution_count": 76,
     "metadata": {},
     "output_type": "execute_result"
    }
   ],
   "source": [
    "def solution(A, K):\n",
    "    # Implement your solution here\n",
    "    if len(A) < 1 or len(A) == K:\n",
    "        return A\n",
    "    while K >= len(A):\n",
    "        K= K-len(A)\n",
    "\n",
    "    B=[0]*len(A)\n",
    "    for i in range(len(A)):\n",
    "        if i+K < len(A):\n",
    "            B[i+K] = A[i]\n",
    "        else:\n",
    "            B[i+K-len(A)] = A[i]\n",
    "    return B\n",
    "\n",
    "A = [3, 8, 9, 7, 6]\n",
    "K = 11\n",
    "len(A)\n",
    "solution(A, K)"
   ]
  },
  {
   "cell_type": "markdown",
   "metadata": {},
   "source": [
    "A non-empty array A consisting of N integers is given. The array contains an odd number of elements, and each element of the array can be paired with another element that has the same value, except for one element that is left unpaired."
   ]
  },
  {
   "cell_type": "code",
   "execution_count": 20,
   "metadata": {},
   "outputs": [
    {
     "data": {
      "text/plain": [
       "7"
      ]
     },
     "execution_count": 20,
     "metadata": {},
     "output_type": "execute_result"
    }
   ],
   "source": [
    "#   A[0] = 9  A[1] = 3  A[2] = 9\n",
    "#   A[3] = 3  A[4] = 9  A[5] = 7\n",
    "#   A[6] = 9\n",
    "numbers = [9, 3, 9, 3, 9, 7, 9]\n",
    "def solution(A):\n",
    "    result = 0\n",
    "    for num in A:\n",
    "        result ^= num\n",
    "    return result\n",
    "\n",
    "solution(numbers)"
   ]
  },
  {
   "cell_type": "code",
   "execution_count": 29,
   "metadata": {},
   "outputs": [
    {
     "data": {
      "text/plain": [
       "1"
      ]
     },
     "execution_count": 29,
     "metadata": {},
     "output_type": "execute_result"
    }
   ],
   "source": [
    "def solution(X, Y, D):\n",
    "    if X==Y:\n",
    "        return 0\n",
    "    else:\n",
    "        temp = (Y-X) / D\n",
    "        if (Y-X) % D ==0:\n",
    "            return int(temp)\n",
    "        else:\n",
    "            return int(temp)+1\n",
    "    # if X == Y:\n",
    "    #     return 0\n",
    "    # dist = Y - X\n",
    "    # return dist // D if dist % D == 0 else dist // D + 1\n",
    "solution(10, 10, 30)"
   ]
  },
  {
   "cell_type": "code",
   "execution_count": 36,
   "metadata": {},
   "outputs": [
    {
     "name": "stdout",
     "output_type": "stream",
     "text": [
      "First array: [1, 2, 3, 4]\n",
      "Second array: [5, 6, 7, 8]\n"
     ]
    }
   ],
   "source": [
    "def split_array(arr):\n",
    "    mid = len(arr) // 2\n",
    "    return arr[:mid], arr[mid:]\n",
    "\n",
    "# Example usage:\n",
    "my_array = [1, 2, 3, 4, 5, 6, 7, 8]\n",
    "arr1, arr2 = split_array(my_array)\n",
    "print(\"First array:\", arr1)\n",
    "print(\"Second array:\", arr2)\n"
   ]
  },
  {
   "cell_type": "markdown",
   "metadata": {},
   "source": [
    "check if there are absolute N/2 pairs in an N-length array; each element of the pair must be different"
   ]
  },
  {
   "cell_type": "code",
   "execution_count": 21,
   "metadata": {},
   "outputs": [
    {
     "data": {
      "text/plain": [
       "True"
      ]
     },
     "execution_count": 21,
     "metadata": {},
     "output_type": "execute_result"
    }
   ],
   "source": [
    "def solution(A):\n",
    "    i = 0\n",
    "    count = 0\n",
    "    temp = []\n",
    "    while i <= len(A)-1:\n",
    "        if A[i] not in temp:\n",
    "            for j in range(i+1, len(A)):\n",
    "                if (A[i] + A[j]) % 2 != 0 and A[i] not in temp and A[j] not in temp:\n",
    "                    temp.append(A[i])\n",
    "                    temp.append(A[j])\n",
    "                    count +=1\n",
    "        i+=1\n",
    "    if count == len(A)/2: return True\n",
    "    else: return False\n",
    "\n",
    "A=[-1,2]\n",
    "solution(A)\n"
   ]
  },
  {
   "cell_type": "markdown",
   "metadata": {},
   "source": [
    "counting the minimum total cost (from cost1, cost2) to equal every value in the array."
   ]
  },
  {
   "cell_type": "code",
   "execution_count": 55,
   "metadata": {},
   "outputs": [
    {
     "data": {
      "text/plain": [
       "9"
      ]
     },
     "execution_count": 55,
     "metadata": {},
     "output_type": "execute_result"
    }
   ],
   "source": [
    "def minCost(nums, cost1, cost2):\n",
    "    n = len(nums)\n",
    "    v = []\n",
    "    cost = [cost1, cost2]\n",
    "    totalCost = 0\n",
    "\n",
    "    for i in range(n):\n",
    "        v.append((nums[i], cost[i]))\n",
    "        totalCost += cost[i]\n",
    "\n",
    "    v.sort() # sort according to num\n",
    "\n",
    "    mid = (totalCost + 1) // 2\n",
    "    target = -1\n",
    "    currSum = 0 # sum of cost\n",
    "\n",
    "    for i in range(n):\n",
    "        currSum += v[i][1]\n",
    "        if currSum >= mid:\n",
    "            target = v[i][0] # target is from num array\n",
    "            break\n",
    "\n",
    "    ans = 0\n",
    "    for i in range(n):\n",
    "        ans += abs(nums[i] - target) * cost[i]\n",
    "\n",
    "    return ans\n",
    "    \n",
    "minCost([1, 4], 15, 3)"
   ]
  },
  {
   "cell_type": "code",
   "execution_count": 58,
   "metadata": {},
   "outputs": [
    {
     "name": "stdout",
     "output_type": "stream",
     "text": [
      "12\n"
     ]
    }
   ],
   "source": [
    "def minOperation(A, c1, c2):\n",
    "    mp = {}\n",
    "    max_freq = 0\n",
    "    \n",
    "    # Update the map\n",
    "    for i in A:\n",
    "        mp[i] = mp.get(i, 0) + 1\n",
    "    \n",
    "    # Finding max frequency\n",
    "    for i in mp:\n",
    "        if mp[i] > max_freq:\n",
    "            max_freq = mp[i]\n",
    "    \n",
    "    # If all elements have the same frequency, we need to change n-1 elements\n",
    "    if max_freq == 1:\n",
    "        return len(A) - 1\n",
    "    \n",
    "    # Calculate the cost of operations\n",
    "    total_cost = (len(A) - max_freq) * c1  # Cost for elements with less frequency\n",
    "    total_cost += (max_freq - 1) * min(c1, c2)  # Cost for making elements with max frequency equal\n",
    "    \n",
    "    return total_cost\n",
    "\n",
    "\n",
    "# Driver Code\n",
    "if __name__ == \"__main__\": \n",
    "    A = [1, 5, 2, 1, 3, 2, 1] \n",
    "    c1 = 2\n",
    "    c2 = 4\n",
    "    print(minOperation(A, c1, c2))\n"
   ]
  },
  {
   "cell_type": "markdown",
   "metadata": {},
   "source": [
    "An array A consisting of N different integers is given. The array contains integers in the range [1..(N + 1)], which means that exactly one element is missing.\n",
    "\n",
    "Your goal is to find that missing element."
   ]
  },
  {
   "cell_type": "code",
   "execution_count": 15,
   "metadata": {},
   "outputs": [
    {
     "data": {
      "text/plain": [
       "4"
      ]
     },
     "execution_count": 15,
     "metadata": {},
     "output_type": "execute_result"
    }
   ],
   "source": [
    "def solution(A):\n",
    "    if len(A) == 0:\n",
    "        return 1\n",
    "    elif len(A)==1 and A[0]==1:\n",
    "        return 2\n",
    "    A.sort()\n",
    "    A = list(set(A))\n",
    "    b= max(A)\n",
    "    different_elements = set(A) ^ set(range(1, b+1))\n",
    "    if len(different_elements) == 0:\n",
    "        return A[len(A)-1]+1\n",
    "    return different_elements.pop()\n",
    "        \n",
    "\n",
    "A = [2,3]\n",
    "# len(range(1,4))\n",
    "solution(A)"
   ]
  },
  {
   "cell_type": "markdown",
   "metadata": {},
   "source": [
    "tape equilibrium: minimize the value ([0] + ... + a[p-1]) - (a[p] + ... + a[n-1])| "
   ]
  },
  {
   "cell_type": "code",
   "execution_count": 10,
   "metadata": {},
   "outputs": [
    {
     "name": "stdout",
     "output_type": "stream",
     "text": [
      "[1] [5, 2, 1, 3, 2, 1]\n"
     ]
    }
   ],
   "source": [
    "#my version => exceed time limit\n",
    "def solution(A):\n",
    "    check =[]\n",
    "    for i in range(1,len(A)):\n",
    "        current = abs(sum(A[:i]) - sum(A[i:]))\n",
    "        check.append(current)\n",
    "    \n",
    "    return min(check)\n",
    "\n",
    "A=[1, 5, 2, 1, 3, 2, 1] \n",
    "i = 1\n",
    "current = abs(sum(A[:i]) - sum(A[i:]))\n",
    "print(A[:i], A[i:])\n",
    "# print(range(1,len(A)))\n",
    "# for n in range(1,len(A)):\n",
    "#     print(n)"
   ]
  },
  {
   "cell_type": "code",
   "execution_count": 33,
   "metadata": {},
   "outputs": [
    {
     "name": "stdout",
     "output_type": "stream",
     "text": [
      "Hiệu tuyệt đối nhỏ nhất: 1\n"
     ]
    }
   ],
   "source": [
    "def solution(A):\n",
    "    total_sum = sum(A)\n",
    "    left_sum = 0\n",
    "    min_diff = float('inf')\n",
    "\n",
    "    for num in A[:-1]:  # Loại bỏ phần tử cuối cùng (p = n-1)\n",
    "        left_sum += num\n",
    "        right_sum = total_sum - left_sum\n",
    "        diff = abs(left_sum - right_sum)\n",
    "        min_diff = min(min_diff, diff)\n",
    "\n",
    "    return min_diff\n",
    "\n",
    "# Sử dụng ví dụ:\n",
    "arr = [3, 1, 2, 4, 3]\n",
    "print(\"Hiệu tuyệt đối nhỏ nhất:\", solution(arr))\n"
   ]
  },
  {
   "cell_type": "markdown",
   "metadata": {},
   "source": [
    "A small frog wants to get to the other side of a river. The frog is initially located on one bank of the river (position 0) and wants to get to the opposite bank (position X+1). Leaves fall from a tree onto the surface of the river.\n",
    "\n",
    "You are given an array A consisting of N integers representing the falling leaves. A[K] represents the position where one leaf falls at time K, measured in seconds.\n",
    "\n",
    "The goal is to find the earliest time when the frog can jump to the other side of the river. The frog can cross only when leaves appear at every position across the river from 1 to X (that is, we want to find the earliest moment when all the positions from 1 to X are covered by leaves). You may assume that the speed of the current in the river is negligibly small, i.e. the leaves do not change their positions once they fall in the river.\n",
    "\n",
    "For example, you are given integer X = 5 and array A such that:\n",
    "\n",
    "  A[0] = 1\n",
    "  A[1] = 3\n",
    "  A[2] = 1\n",
    "  A[3] = 4\n",
    "  A[4] = 2\n",
    "  A[5] = 3\n",
    "  A[6] = 5\n",
    "  A[7] = 4\n",
    "In second 6, a leaf falls into position 5. This is the earliest time when leaves appear in every position across the river."
   ]
  },
  {
   "cell_type": "code",
   "execution_count": 55,
   "metadata": {},
   "outputs": [
    {
     "data": {
      "text/plain": [
       "6"
      ]
     },
     "execution_count": 55,
     "metadata": {},
     "output_type": "execute_result"
    }
   ],
   "source": [
    "def solution(X, A):\n",
    "    check = [0]*X\n",
    "    count = 0\n",
    "    for sec, pos in enumerate(A):\n",
    "        if pos <= len(check):\n",
    "            if check[pos-1] != 1:\n",
    "                check[pos-1] = 1\n",
    "                count+=1\n",
    "        if count==X:\n",
    "            return sec\n",
    "    return -1\n",
    "\n",
    "\n",
    "X=5\n",
    "A=[1, 3, 1, 4, 2, 3, 5, 4]\n",
    "# for sec, fall in enumerate(A):\n",
    "#     print(sec, fall)\n",
    "solution(X,A)"
   ]
  },
  {
   "cell_type": "markdown",
   "metadata": {},
   "source": [
    "A non-empty array A consisting of N integers is given.\n",
    "\n",
    "A permutation is a sequence containing each element from 1 to N once, and only once.\n",
    "\n",
    "For example, array A such that:\n",
    "\n",
    "    A[0] = 4\n",
    "    A[1] = 1\n",
    "    A[2] = 3\n",
    "    A[3] = 2\n",
    "is a permutation, but array A such that:\n",
    "\n",
    "    A[0] = 4\n",
    "    A[1] = 1\n",
    "    A[2] = 3\n",
    "is not a permutation, because value 2 is missing.\n",
    "\n",
    "The goal is to check whether array A is a permutation.\n",
    "\n",
    "Write a function:\n",
    "\n",
    "class Solution { public int solution(int[] A); }\n",
    "\n",
    "that, given an array A, returns 1 if array A is a permutation and 0 if it is not.\n",
    "\n",
    "For example, given array A such that:\n",
    "\n",
    "    A[0] = 4\n",
    "    A[1] = 1\n",
    "    A[2] = 3\n",
    "    A[3] = 2\n",
    "the function should return 1.\n",
    "\n",
    "Given array A such that:\n",
    "\n",
    "    A[0] = 4\n",
    "    A[1] = 1\n",
    "    A[2] = 3\n",
    "the function should return 0."
   ]
  },
  {
   "cell_type": "code",
   "execution_count": 71,
   "metadata": {},
   "outputs": [
    {
     "data": {
      "text/plain": [
       "1"
      ]
     },
     "execution_count": 71,
     "metadata": {},
     "output_type": "execute_result"
    }
   ],
   "source": [
    "def solution(A):\n",
    "    # Implement your solution here\n",
    "    if min(A) != 1:\n",
    "        return 0\n",
    "    if max(A) != len(A):\n",
    "        return 0\n",
    "    A.sort()\n",
    "    for i,v in enumerate(A):\n",
    "        if i!=v-1:\n",
    "            return 0\n",
    "    return 1\n",
    "\n",
    "solution([4, 1, 3, 2])"
   ]
  },
  {
   "cell_type": "markdown",
   "metadata": {},
   "source": [
    "MaxCounters\n",
    "Calculate the values of counters after applying all alternating operations: increase counter by 1; set value of all counters to current maximum."
   ]
  },
  {
   "cell_type": "code",
   "execution_count": 70,
   "metadata": {},
   "outputs": [
    {
     "data": {
      "text/plain": [
       "[3, 2, 2, 4, 2]"
      ]
     },
     "execution_count": 70,
     "metadata": {},
     "output_type": "execute_result"
    }
   ],
   "source": [
    "def solution(N, A):\n",
    "    # Implement your solution here\n",
    "    counter = [0]*N\n",
    "    track_max = 0\n",
    "    update = 0\n",
    "    for val in A:\n",
    "        if 1 <= val <= N:\n",
    "            counter[val-1] = max(counter[val-1], update)\n",
    "            counter[val-1] += 1\n",
    "            track_max = max(counter[val-1], track_max)\n",
    "        elif val == N+1:\n",
    "            update = track_max\n",
    "    \n",
    "    for i in range(len(counter)):\n",
    "        counter[i] = max(counter[i], update)\n",
    "        \n",
    "    return counter\n",
    "\n",
    "solution(5, [3,4,4,6,1,4,4])"
   ]
  },
  {
   "cell_type": "code",
   "execution_count": 63,
   "metadata": {},
   "outputs": [
    {
     "data": {
      "text/plain": [
       "[3, 2, 2, 4, 2]"
      ]
     },
     "execution_count": 63,
     "metadata": {},
     "output_type": "execute_result"
    }
   ],
   "source": [
    "def fast_solution(N, A):\n",
    "    counters = [0] * N\n",
    "    max_counter = 0\n",
    "    last_update = 0\n",
    "\n",
    "    for K,X in enumerate(A): # O(M)\n",
    "        if 1 <= X <= N:\n",
    "            counters[X-1] = max(counters[X-1], last_update)\n",
    "            counters[X-1] += 1\n",
    "            max_counter = max(counters[X-1], max_counter)\n",
    "        elif A[K] == (N + 1):\n",
    "            last_update = max_counter\n",
    "\n",
    "    for i in range(N): # O(N)\n",
    "        counters[i] = max(counters[i], last_update)\n",
    "\n",
    "    return counters\n",
    "\n",
    "fast_solution(5, [3,4,4,6,1,4,4])"
   ]
  },
  {
   "cell_type": "markdown",
   "metadata": {},
   "source": [
    "A non-empty array A consisting of N integers is given. The consecutive elements of array A represent consecutive cars on a road.\n",
    "\n",
    "Array A contains only 0s and/or 1s:\n",
    "\n",
    "0 represents a car traveling east,\n",
    "1 represents a car traveling west.\n",
    "The goal is to count passing cars. We say that a pair of cars (P, Q), where 0 ≤ P < Q < N, is passing when P is traveling to the east and Q is traveling to the west.\n",
    "\n",
    "For example, consider array A such that:\n",
    "\n",
    "  A[0] = 0\n",
    "  A[1] = 1\n",
    "  A[2] = 0\n",
    "  A[3] = 1\n",
    "  A[4] = 1\n",
    "We have five pairs of passing cars: (0, 1), (0, 3), (0, 4), (2, 3), (2, 4)."
   ]
  },
  {
   "cell_type": "code",
   "execution_count": 2,
   "metadata": {},
   "outputs": [
    {
     "data": {
      "text/plain": [
       "9"
      ]
     },
     "execution_count": 2,
     "metadata": {},
     "output_type": "execute_result"
    }
   ],
   "source": [
    "def solution(A):\n",
    "    # Implement your solution here\n",
    "    E = 0\n",
    "    W = 0\n",
    "    for i in range(len(A)):\n",
    "        if A[i]==0:\n",
    "            W+=1\n",
    "        if A[i] ==1:\n",
    "            E+=W\n",
    "        if E > 1000000000:\n",
    "            return -1\n",
    "        \n",
    "    return E\n",
    "\n",
    "solution([0,1,0,0,1,0,0,1])"
   ]
  },
  {
   "cell_type": "markdown",
   "metadata": {},
   "source": [
    "A mushroom picker is at spot number k on the road and should perform m moves. In\n",
    "one move she moves to an adjacent spot. She collects all the mushrooms growing on spots\n",
    "she visits. The goal is to calculate the maximum number of mushrooms that the mushroom\n",
    "picker can collect in m moves.\n",
    "For example, consider array A such that:\n",
    "\n",
    "A = 2 3 7 5 1 3 9\n",
    "\n",
    "pos 0 1 2 3 4 5 6\n",
    "\n",
    "The mushroom picker starts at spot k = 4 and should perform m = 6 moves. She might\n",
    "move to spots 3, 2, 3, 4, 5, 6 and thereby collect 1 + 5 + 7 + 3 + 9 = 25 mushrooms. This is the\n",
    "maximal number of mushrooms she can collect."
   ]
  },
  {
   "cell_type": "code",
   "execution_count": 62,
   "metadata": {},
   "outputs": [
    {
     "data": {
      "text/plain": [
       "28"
      ]
     },
     "execution_count": 62,
     "metadata": {},
     "output_type": "execute_result"
    }
   ],
   "source": [
    "def prefix_sums(A):\n",
    "    n = len(A)\n",
    "    P = [0] * (n + 1)\n",
    "    for k in range(1, n + 1):\n",
    "        P[k] = P[k - 1] + A[k - 1]\n",
    "    return P[1:]\n",
    "\n",
    "def count_total(P, x, y):\n",
    "    a = P[y]\n",
    "    b = P[x-1]\n",
    "    return  a-b \n",
    "\n",
    "def mushroom(A, k_spot, m):\n",
    "    P = prefix_sums(A)\n",
    "    n = len(A)\n",
    "    result = 0\n",
    "    m_left = min(k_spot,m)+1\n",
    "    m_right = min(m + 1, n - k_spot)\n",
    "    for i in range(m_left):\n",
    "        pos_left = k_spot - i\n",
    "        pos_right = min(n - 1, max(k_spot, k_spot + m - 2 * i))\n",
    "        result = max(result, count_total(P, pos_left, pos_right))\n",
    "    for i in range(m_right):\n",
    "        pos_left = max(0, min(k_spot, k_spot - (m - 2 * i)))\n",
    "        pos_right = k_spot + i\n",
    "        result = max(result, count_total(P, pos_left, pos_right))\n",
    "    return result\n",
    "\n",
    "A = [2, 3, 7, 5, 1, 3, 9]\n",
    "mushroom(A,2, 6)"
   ]
  },
  {
   "cell_type": "markdown",
   "metadata": {},
   "source": [
    "given three integers A, B and K, returns the number of integers within the range [A..B] that are divisible by K"
   ]
  },
  {
   "cell_type": "code",
   "execution_count": 1,
   "metadata": {},
   "outputs": [
    {
     "data": {
      "text/plain": [
       "59999951"
      ]
     },
     "execution_count": 1,
     "metadata": {},
     "output_type": "execute_result"
    }
   ],
   "source": [
    "def solution(A, B, K):\n",
    "    # Implement your solution here\n",
    "    b = int(B/K)\n",
    "    if A > 0: a = int((A-1)/K)\n",
    "    else: \n",
    "        a = 0\n",
    "        b+=1\n",
    "    return b - a\n",
    "\n",
    "solution(100, 120000000, 2)"
   ]
  },
  {
   "cell_type": "markdown",
   "metadata": {},
   "source": [
    "A DNA sequence can be represented as a string consisting of the letters A, C, G and T, which correspond to the types of successive nucleotides in the sequence. Each nucleotide has an impact factor, which is an integer. Nucleotides of types A, C, G and T have impact factors of 1, 2, 3 and 4, respectively. You are going to answer several queries of the form: What is the minimal impact factor of nucleotides contained in a particular part of the given DNA sequence?\n",
    "\n",
    "The DNA sequence is given as a non-empty string S = S[0]S[1]...S[N-1] consisting of N characters. There are M queries, which are given in non-empty arrays P and Q, each consisting of M integers. The K-th query (0 ≤ K < M) requires you to find the minimal impact factor of nucleotides contained in the DNA sequence between positions P[K] and Q[K] (inclusive).\n",
    "\n",
    "For example, consider string S = CAGCCTA and arrays P, Q such that:\n",
    "\n",
    "    P[0] = 2    Q[0] = 4\n",
    "\n",
    "    P[1] = 5    Q[1] = 5\n",
    "\n",
    "    P[2] = 0    Q[2] = 6\n",
    "    \n",
    "The answers to these M = 3 queries are as follows:\n",
    "\n",
    "The part of the DNA between positions 2 and 4 contains nucleotides G and C (twice), whose impact factors are 3 and 2 respectively, so the answer is 2.\n",
    "The part between positions 5 and 5 contains a single nucleotide T, whose impact factor is 4, so the answer is 4.\n",
    "The part between positions 0 and 6 (the whole string) contains all nucleotides, in particular nucleotide A whose impact factor is 1, so the answer is 1."
   ]
  },
  {
   "cell_type": "code",
   "execution_count": 8,
   "metadata": {},
   "outputs": [
    {
     "data": {
      "text/plain": [
       "[2, 4, 1]"
      ]
     },
     "execution_count": 8,
     "metadata": {},
     "output_type": "execute_result"
    }
   ],
   "source": [
    "def solution(S, P, Q):\n",
    "# def solution(S):\n",
    "    n = len(S)+1\n",
    "    A = [0]*n\n",
    "    C = [0]*n\n",
    "    G = [0]*n\n",
    "    T = [0]*n\n",
    "    result = []\n",
    "    for i, char in enumerate(S):\n",
    "        A[i+1]=A[i]\n",
    "        C[i+1]=C[i]\n",
    "        G[i+1]=G[i]\n",
    "        T[i+1]=T[i]\n",
    "        if char == 'A':\n",
    "            A[i+1]+=1\n",
    "        if char == 'C':\n",
    "            C[i+1]+=1\n",
    "        if char == 'G':\n",
    "            G[i+1]+=1\n",
    "        if char == 'T':\n",
    "            T[i+1]+=1\n",
    "    \n",
    "    for i, pos in enumerate(P):\n",
    "        if A[pos+1] < A[Q[i]+1] or S[P[i]] == 'A': \n",
    "            result.append(1)\n",
    "        elif C[pos+1] < C[Q[i]+1] or S[P[i]] == 'C': \n",
    "            result.append(2)\n",
    "        elif G[pos+1] < G[Q[i]+1] or S[P[i]] == 'G': \n",
    "            result.append(3)\n",
    "        elif T[pos+1] < T[Q[i]+1] or S[P[i]] == 'T': \n",
    "            result.append(4)\n",
    "    return result\n",
    "\n",
    "s = 'CAGCCTA'\n",
    "p = [2,5,0]\n",
    "q = [4,5,6]\n",
    "solution(s,p,q)"
   ]
  },
  {
   "cell_type": "code",
   "execution_count": 32,
   "metadata": {},
   "outputs": [
    {
     "data": {
      "text/plain": [
       "5"
      ]
     },
     "execution_count": 32,
     "metadata": {},
     "output_type": "execute_result"
    }
   ],
   "source": [
    "def solution(A):\n",
    "    # Implement your solution here\n",
    "    A.sort()\n",
    "    a = A[-1] \n",
    "    b =  A[-3]\n",
    "    return max(a,b)\n",
    "\n",
    "A = [-5, 5, -5, 4]\n",
    "solution(A)"
   ]
  },
  {
   "cell_type": "code",
   "execution_count": null,
   "metadata": {},
   "outputs": [],
   "source": []
  }
 ],
 "metadata": {
  "kernelspec": {
   "display_name": "Python 3",
   "language": "python",
   "name": "python3"
  },
  "language_info": {
   "codemirror_mode": {
    "name": "ipython",
    "version": 3
   },
   "file_extension": ".py",
   "mimetype": "text/x-python",
   "name": "python",
   "nbconvert_exporter": "python",
   "pygments_lexer": "ipython3",
   "version": "3.11.2"
  }
 },
 "nbformat": 4,
 "nbformat_minor": 2
}
