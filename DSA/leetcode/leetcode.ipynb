{
 "cells": [
  {
   "cell_type": "markdown",
   "metadata": {},
   "source": [
    "## 27. Remove Elements\n",
    "Example 1:\n",
    "\n",
    "- **Input:** nums = [3,2,2,3], val = 3\n",
    "\n",
    "- **Output:** 2, nums = [2,2,_,_]\n",
    "\n",
    "- **Explanation:** \n",
    "\n",
    "    - Your function should return k = 2, with the first two elements of nums being 2.\n",
    "\n",
    "    - It does not matter what you leave beyond the returned k (hence they are underscores).\n",
    "\n",
    "Example 2:\n",
    "\n",
    "- **Input:** nums = [0,1,2,2,3,0,4,2], val = 2\n",
    "\n",
    "- **Output:** 5, nums = [0,1,4,0,3,_,_,_]\n",
    "\n",
    "- **Explanation:** \n",
    "\n",
    "    - Your function should return k = 5, with the first five elements of nums containing 0, 0, 1, 3, and 4.\n",
    "\n",
    "    - Note that the five elements can be returned in any order.\n",
    "\n",
    "    - It does not matter what you leave beyond the returned k (hence they are underscores)."
   ]
  },
  {
   "cell_type": "code",
   "execution_count": 18,
   "metadata": {},
   "outputs": [
    {
     "data": {
      "text/plain": [
       "5"
      ]
     },
     "execution_count": 18,
     "metadata": {},
     "output_type": "execute_result"
    }
   ],
   "source": [
    "def removeElement(nums, val):\n",
    "    \"\"\"\n",
    "    :type nums: List[int]\n",
    "    :type val: int\n",
    "    :rtype: int\n",
    "    \"\"\"\n",
    "    j = 0\n",
    "    for i in range(len(nums)):\n",
    "        if nums[i] != val:\n",
    "            nums[j], nums[i] = nums[i], nums[j]\n",
    "            j += 1\n",
    "    return j\n",
    "    \n",
    "\n",
    "nums = [0,1,2,2,3,0,4,2]\n",
    "val = 2\n",
    "removeElement(nums, val)"
   ]
  },
  {
   "cell_type": "markdown",
   "metadata": {},
   "source": [
    "## 80. Remove Duplicates from Sorted Array II\n",
    "Example 1:\n",
    "\n",
    "\n",
    "- **Input:** nums = [1,1,1,2,2,3]\n",
    "\n",
    "- **Output:** 5, nums = [1,1,2,2,3,_]\n",
    "\n",
    "- **Explanation:** Your function should return k = 5, with the first five elements of nums being 1, 1, 2, 2 and 3 respectively.\n",
    "\n",
    "- It does not matter what you leave beyond the returned k (hence they are underscores).\n",
    "\n",
    "Example 2:\n",
    "\n",
    "\n",
    "- **Input:** nums = [0,0,1,1,1,1,2,3,3]\n",
    "\n",
    "- **Output:** 7, nums = [0,0,1,1,2,3,3,_,_]\n",
    "\n",
    "- **Explanation:** Your function should return k = 7, with the first seven elements of nums being 0, 0, 1, 1, 2, 3 and 3 respectively.\n",
    "\n",
    "- It does not matter what you leave beyond the returned k (hence they are underscores)."
   ]
  },
  {
   "cell_type": "code",
   "execution_count": 37,
   "metadata": {},
   "outputs": [
    {
     "data": {
      "text/plain": [
       "(7, [0, 0, 1, 1, 2, 3, 3, 3, 3])"
      ]
     },
     "execution_count": 37,
     "metadata": {},
     "output_type": "execute_result"
    }
   ],
   "source": [
    "# removeDuplicates([0,0,1,1,1,2,2,3,3,3,3,3,3,3,4])\n",
    "def removeDuplicates(nums):\n",
    "    \"\"\"\n",
    "    :type nums: List[int]\n",
    "    :rtype: int\n",
    "    \"\"\"\n",
    "    j, count = 1, 1\n",
    "    for i in range(1, len(nums)):\n",
    "        if nums[i] == nums[i-1]:\n",
    "            count += 1\n",
    "            if count < 3:\n",
    "                nums[j] = nums[i]\n",
    "                j += 1\n",
    "        else:\n",
    "            count = 1\n",
    "            nums[j] = nums[i]\n",
    "            j += 1\n",
    "    \n",
    "    return j, nums\n",
    "    \n",
    "\n",
    "removeDuplicates([0,0,1,1,1,1,2,3,3])"
   ]
  },
  {
   "cell_type": "markdown",
   "metadata": {},
   "source": [
    "## 189. Rotate Array\n",
    "Given an integer array nums, rotate the array to the right by k steps, where k is non-negative.\n",
    "\n",
    "Example 1:\n",
    "\n",
    "- **Input:** nums = [1,2,3,4,5,6,7], k = 3\n",
    "\n",
    "- **Output:** [5,6,7,1,2,3,4]\n",
    "\n",
    "- **Explanation:**\n",
    "\n",
    "    - rotate 1 steps to the right: [7,1,2,3,4,5,6]\n",
    "\n",
    "    - rotate 2 steps to the right: [6,7,1,2,3,4,5]\n",
    "\n",
    "    - rotate 3 steps to the right: [5,6,7,1,2,3,4]\n",
    "\n",
    "Example 2:\n",
    "\n",
    "- **Input:** nums = [-1,-100,3,99], k = 2\n",
    "\n",
    "- **Output:** [3,99,-1,-100]\n",
    "\n",
    "- **Explanation:** \n",
    "\n",
    "    - rotate 1 steps to the right: [99,-1,-100,3]\n",
    "\n",
    "    - rotate 2 steps to the right: [3,99,-1,-100]"
   ]
  },
  {
   "cell_type": "code",
   "execution_count": 16,
   "metadata": {},
   "outputs": [
    {
     "data": {
      "text/plain": [
       "[-2, 3, 1, 0, 2]"
      ]
     },
     "execution_count": 16,
     "metadata": {},
     "output_type": "execute_result"
    }
   ],
   "source": [
    "def rotate(nums, k):        \n",
    "    n = len(nums)\n",
    "\n",
    "    if k >= n:\n",
    "        k = k % n\n",
    "\n",
    "    start = n - k\n",
    "    end = start - 1\n",
    "    loop = n // 2\n",
    "\n",
    "    if k == 0:\n",
    "        return nums\n",
    "    left_part = (n-start)//2\n",
    "    for i in range(left_part):\n",
    "        nums[start + i], nums[n-1 -i] = nums[n-1 -i], nums[start + i]\n",
    "\n",
    "    right_part = (end + 1)//2\n",
    "    for i in range(right_part):\n",
    "        nums[0 + i], nums[end -i] = nums[end -i], nums[0 + i]\n",
    "    \n",
    "    for i in range(loop):\n",
    "        nums[0 + i], nums[n-1 - i] = nums[n-1 - i], nums[0 + i]\n",
    "\n",
    "\n",
    "    return nums\n",
    "\n",
    "nums = [2,-2,3,1,0]\n",
    "rotate(nums, 4)"
   ]
  },
  {
   "cell_type": "code",
   "execution_count": 25,
   "metadata": {},
   "outputs": [
    {
     "data": {
      "text/plain": [
       "True"
      ]
     },
     "execution_count": 25,
     "metadata": {},
     "output_type": "execute_result"
    }
   ],
   "source": [
    "def isAnagram(s, t):\n",
    "    dictS = {}\n",
    "    dictT = {}\n",
    "    s = ''.join(sorted(s))\n",
    "    t = ''.join(sorted(t))\n",
    "    if len(s) != len(t):\n",
    "        return False \n",
    "    else:\n",
    "        for i in s:\n",
    "            if i not in dictS:\n",
    "                dictS[i] = 1\n",
    "            else:\n",
    "                dictS[i] += 1\n",
    "        for i in t:\n",
    "            if i not in dictT:\n",
    "                dictT[i] = 1\n",
    "            else:\n",
    "                dictT[i] += 1\n",
    "\n",
    "        return dictS == dictT\n",
    "\n",
    "s = \"anagram\"\n",
    "t = \"nagaram\"\n",
    "isAnagram(s, t)"
   ]
  },
  {
   "cell_type": "code",
   "execution_count": null,
   "metadata": {},
   "outputs": [],
   "source": []
  }
 ],
 "metadata": {
  "kernelspec": {
   "display_name": "Python 3",
   "language": "python",
   "name": "python3"
  },
  "language_info": {
   "codemirror_mode": {
    "name": "ipython",
    "version": 3
   },
   "file_extension": ".py",
   "mimetype": "text/x-python",
   "name": "python",
   "nbconvert_exporter": "python",
   "pygments_lexer": "ipython3",
   "version": "3.11.2"
  }
 },
 "nbformat": 4,
 "nbformat_minor": 2
}
